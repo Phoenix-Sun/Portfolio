{
 "cells": [
  {
   "cell_type": "markdown",
   "id": "77f07bb6",
   "metadata": {},
   "source": [
    "# 資料來源"
   ]
  },
  {
   "cell_type": "markdown",
   "id": "adf36c71",
   "metadata": {},
   "source": [
    "https://s3.amazonaws.com/talent-assets.datacamp.com/pet_sales.csv\n",
    "\n",
    "資料來自於datacamp的資料分析師認證考試\n",
    "\n",
    "分析目標為根據寵物用品的銷售資料，分析不同寵物類別的用品銷售趨勢。"
   ]
  },
  {
   "cell_type": "markdown",
   "id": "ec0ffd5b",
   "metadata": {},
   "source": [
    "# Company Background"
   ]
  },
  {
   "cell_type": "markdown",
   "id": "bda93f86",
   "metadata": {},
   "source": [
    "PetMind is a nationwide pet product retailer in the United States. With inflation hitting 41-year\n",
    "highs, the company is planning to reduce the cost of customer retention by improving brand\n",
    "loyalty. The first strategy is to launch a monthly pet box subscription in three months.\n",
    "The marketing team is preparing a list of popular products for the pet box subscription. The\n",
    "chief marketing officer wants to know whether the list should only include the products being\n",
    "purchased more than once."
   ]
  },
  {
   "cell_type": "markdown",
   "id": "cd2791f9",
   "metadata": {},
   "source": [
    "# Customer Questions"
   ]
  },
  {
   "cell_type": "markdown",
   "id": "da054dbd",
   "metadata": {},
   "source": [
    "The marketing team would like to answer the following questions to help with the decision:\n",
    "- How many products are being purchased more than once?\n",
    "- Do the products being purchased again have better sales than others?\n",
    "- What products are more likely to be purchased again for different types of pets?"
   ]
  },
  {
   "cell_type": "markdown",
   "id": "ec5fd446",
   "metadata": {},
   "source": [
    "# Analysis"
   ]
  },
  {
   "cell_type": "code",
   "execution_count": 342,
   "id": "25837b67",
   "metadata": {},
   "outputs": [],
   "source": [
    "import pandas as pd\n",
    "import matplotlib.pyplot as plt\n",
    "import seaborn as sns\n",
    "import numpy as np"
   ]
  },
  {
   "cell_type": "code",
   "execution_count": 343,
   "id": "cd713a79",
   "metadata": {},
   "outputs": [],
   "source": [
    "url = 'https://s3.amazonaws.com/talent-assets.datacamp.com/pet_sales.csv'"
   ]
  },
  {
   "cell_type": "code",
   "execution_count": 344,
   "id": "c38bd035",
   "metadata": {},
   "outputs": [],
   "source": [
    "df = pd.read_csv(url)"
   ]
  },
  {
   "cell_type": "code",
   "execution_count": 345,
   "id": "58afc4c0",
   "metadata": {},
   "outputs": [
    {
     "name": "stdout",
     "output_type": "stream",
     "text": [
      "<class 'pandas.core.frame.DataFrame'>\n",
      "RangeIndex: 879 entries, 0 to 878\n",
      "Data columns (total 9 columns):\n",
      " #   Column            Non-Null Count  Dtype  \n",
      "---  ------            --------------  -----  \n",
      " 0   product_id        879 non-null    int64  \n",
      " 1   product_category  879 non-null    object \n",
      " 2   sales             879 non-null    object \n",
      " 3   price             879 non-null    float64\n",
      " 4   vendor_id         879 non-null    object \n",
      " 5   pet_size          879 non-null    object \n",
      " 6   pet_type          879 non-null    object \n",
      " 7   rating            879 non-null    int64  \n",
      " 8   re_buy            879 non-null    int64  \n",
      "dtypes: float64(1), int64(3), object(5)\n",
      "memory usage: 61.9+ KB\n"
     ]
    }
   ],
   "source": [
    "df.info()"
   ]
  },
  {
   "cell_type": "code",
   "execution_count": 346,
   "id": "d0d4ee40",
   "metadata": {},
   "outputs": [
    {
     "data": {
      "text/html": [
       "<div>\n",
       "<style scoped>\n",
       "    .dataframe tbody tr th:only-of-type {\n",
       "        vertical-align: middle;\n",
       "    }\n",
       "\n",
       "    .dataframe tbody tr th {\n",
       "        vertical-align: top;\n",
       "    }\n",
       "\n",
       "    .dataframe thead th {\n",
       "        text-align: right;\n",
       "    }\n",
       "</style>\n",
       "<table border=\"1\" class=\"dataframe\">\n",
       "  <thead>\n",
       "    <tr style=\"text-align: right;\">\n",
       "      <th></th>\n",
       "      <th>product_id</th>\n",
       "      <th>price</th>\n",
       "      <th>rating</th>\n",
       "      <th>re_buy</th>\n",
       "    </tr>\n",
       "  </thead>\n",
       "  <tbody>\n",
       "    <tr>\n",
       "      <th>count</th>\n",
       "      <td>879.00000</td>\n",
       "      <td>879.000000</td>\n",
       "      <td>879.000000</td>\n",
       "      <td>879.000000</td>\n",
       "    </tr>\n",
       "    <tr>\n",
       "      <th>mean</th>\n",
       "      <td>4611.00000</td>\n",
       "      <td>128.212253</td>\n",
       "      <td>6.500569</td>\n",
       "      <td>0.466439</td>\n",
       "    </tr>\n",
       "    <tr>\n",
       "      <th>std</th>\n",
       "      <td>253.88974</td>\n",
       "      <td>71.923583</td>\n",
       "      <td>2.852835</td>\n",
       "      <td>0.499156</td>\n",
       "    </tr>\n",
       "    <tr>\n",
       "      <th>min</th>\n",
       "      <td>4172.00000</td>\n",
       "      <td>0.350000</td>\n",
       "      <td>1.000000</td>\n",
       "      <td>0.000000</td>\n",
       "    </tr>\n",
       "    <tr>\n",
       "      <th>25%</th>\n",
       "      <td>4391.50000</td>\n",
       "      <td>65.210000</td>\n",
       "      <td>5.000000</td>\n",
       "      <td>0.000000</td>\n",
       "    </tr>\n",
       "    <tr>\n",
       "      <th>50%</th>\n",
       "      <td>4611.00000</td>\n",
       "      <td>129.520000</td>\n",
       "      <td>6.000000</td>\n",
       "      <td>0.000000</td>\n",
       "    </tr>\n",
       "    <tr>\n",
       "      <th>75%</th>\n",
       "      <td>4830.50000</td>\n",
       "      <td>188.220000</td>\n",
       "      <td>10.000000</td>\n",
       "      <td>1.000000</td>\n",
       "    </tr>\n",
       "    <tr>\n",
       "      <th>max</th>\n",
       "      <td>5050.00000</td>\n",
       "      <td>252.690000</td>\n",
       "      <td>10.000000</td>\n",
       "      <td>1.000000</td>\n",
       "    </tr>\n",
       "  </tbody>\n",
       "</table>\n",
       "</div>"
      ],
      "text/plain": [
       "       product_id       price      rating      re_buy\n",
       "count   879.00000  879.000000  879.000000  879.000000\n",
       "mean   4611.00000  128.212253    6.500569    0.466439\n",
       "std     253.88974   71.923583    2.852835    0.499156\n",
       "min    4172.00000    0.350000    1.000000    0.000000\n",
       "25%    4391.50000   65.210000    5.000000    0.000000\n",
       "50%    4611.00000  129.520000    6.000000    0.000000\n",
       "75%    4830.50000  188.220000   10.000000    1.000000\n",
       "max    5050.00000  252.690000   10.000000    1.000000"
      ]
     },
     "execution_count": 346,
     "metadata": {},
     "output_type": "execute_result"
    }
   ],
   "source": [
    "df.describe()"
   ]
  },
  {
   "cell_type": "code",
   "execution_count": 347,
   "id": "8d58d163",
   "metadata": {},
   "outputs": [
    {
     "data": {
      "text/html": [
       "<div>\n",
       "<style scoped>\n",
       "    .dataframe tbody tr th:only-of-type {\n",
       "        vertical-align: middle;\n",
       "    }\n",
       "\n",
       "    .dataframe tbody tr th {\n",
       "        vertical-align: top;\n",
       "    }\n",
       "\n",
       "    .dataframe thead th {\n",
       "        text-align: right;\n",
       "    }\n",
       "</style>\n",
       "<table border=\"1\" class=\"dataframe\">\n",
       "  <thead>\n",
       "    <tr style=\"text-align: right;\">\n",
       "      <th></th>\n",
       "      <th>product_id</th>\n",
       "      <th>product_category</th>\n",
       "      <th>sales</th>\n",
       "      <th>price</th>\n",
       "      <th>vendor_id</th>\n",
       "      <th>pet_size</th>\n",
       "      <th>pet_type</th>\n",
       "      <th>rating</th>\n",
       "      <th>re_buy</th>\n",
       "    </tr>\n",
       "  </thead>\n",
       "  <tbody>\n",
       "    <tr>\n",
       "      <th>0</th>\n",
       "      <td>5040</td>\n",
       "      <td>Equipment</td>\n",
       "      <td>$123,000</td>\n",
       "      <td>94.81</td>\n",
       "      <td>VC_1605</td>\n",
       "      <td>small</td>\n",
       "      <td>fish</td>\n",
       "      <td>7</td>\n",
       "      <td>1</td>\n",
       "    </tr>\n",
       "    <tr>\n",
       "      <th>1</th>\n",
       "      <td>4567</td>\n",
       "      <td>Toys</td>\n",
       "      <td>$61,000</td>\n",
       "      <td>120.95</td>\n",
       "      <td>VC_1132</td>\n",
       "      <td>small</td>\n",
       "      <td>cat</td>\n",
       "      <td>10</td>\n",
       "      <td>0</td>\n",
       "    </tr>\n",
       "    <tr>\n",
       "      <th>2</th>\n",
       "      <td>4237</td>\n",
       "      <td>Toys</td>\n",
       "      <td>$218,000</td>\n",
       "      <td>106.34</td>\n",
       "      <td>VC_802</td>\n",
       "      <td>small</td>\n",
       "      <td>hamster</td>\n",
       "      <td>6</td>\n",
       "      <td>0</td>\n",
       "    </tr>\n",
       "    <tr>\n",
       "      <th>3</th>\n",
       "      <td>4364</td>\n",
       "      <td>Snack</td>\n",
       "      <td>$69,000</td>\n",
       "      <td>241.27</td>\n",
       "      <td>VC_929</td>\n",
       "      <td>large</td>\n",
       "      <td>dog</td>\n",
       "      <td>1</td>\n",
       "      <td>1</td>\n",
       "    </tr>\n",
       "    <tr>\n",
       "      <th>4</th>\n",
       "      <td>4184</td>\n",
       "      <td>Supplements</td>\n",
       "      <td>$138,000</td>\n",
       "      <td>133.68</td>\n",
       "      <td>VC_749</td>\n",
       "      <td>large</td>\n",
       "      <td>dog</td>\n",
       "      <td>10</td>\n",
       "      <td>0</td>\n",
       "    </tr>\n",
       "    <tr>\n",
       "      <th>5</th>\n",
       "      <td>4609</td>\n",
       "      <td>Bedding</td>\n",
       "      <td>$183,000</td>\n",
       "      <td>51.60</td>\n",
       "      <td>VC_1174</td>\n",
       "      <td>large</td>\n",
       "      <td>cat</td>\n",
       "      <td>10</td>\n",
       "      <td>0</td>\n",
       "    </tr>\n",
       "    <tr>\n",
       "      <th>6</th>\n",
       "      <td>4380</td>\n",
       "      <td>Toys</td>\n",
       "      <td>$79,000</td>\n",
       "      <td>175.75</td>\n",
       "      <td>VC_945</td>\n",
       "      <td>extra_small</td>\n",
       "      <td>dog</td>\n",
       "      <td>8</td>\n",
       "      <td>0</td>\n",
       "    </tr>\n",
       "    <tr>\n",
       "      <th>7</th>\n",
       "      <td>4389</td>\n",
       "      <td>Bedding</td>\n",
       "      <td>$205,000</td>\n",
       "      <td>170.01</td>\n",
       "      <td>VC_954</td>\n",
       "      <td>large</td>\n",
       "      <td>cat</td>\n",
       "      <td>9</td>\n",
       "      <td>0</td>\n",
       "    </tr>\n",
       "    <tr>\n",
       "      <th>8</th>\n",
       "      <td>4697</td>\n",
       "      <td>Supplements</td>\n",
       "      <td>$116,000</td>\n",
       "      <td>178.11</td>\n",
       "      <td>VC_1262</td>\n",
       "      <td>small</td>\n",
       "      <td>cat</td>\n",
       "      <td>10</td>\n",
       "      <td>0</td>\n",
       "    </tr>\n",
       "    <tr>\n",
       "      <th>9</th>\n",
       "      <td>4238</td>\n",
       "      <td>Medicine</td>\n",
       "      <td>$141,000</td>\n",
       "      <td>248.07</td>\n",
       "      <td>VC_803</td>\n",
       "      <td>medium</td>\n",
       "      <td>dog</td>\n",
       "      <td>10</td>\n",
       "      <td>1</td>\n",
       "    </tr>\n",
       "  </tbody>\n",
       "</table>\n",
       "</div>"
      ],
      "text/plain": [
       "   product_id product_category     sales   price vendor_id     pet_size  \\\n",
       "0        5040        Equipment  $123,000   94.81   VC_1605        small   \n",
       "1        4567             Toys   $61,000  120.95   VC_1132        small   \n",
       "2        4237             Toys  $218,000  106.34    VC_802        small   \n",
       "3        4364            Snack   $69,000  241.27    VC_929        large   \n",
       "4        4184      Supplements  $138,000  133.68    VC_749        large   \n",
       "5        4609          Bedding  $183,000   51.60   VC_1174        large   \n",
       "6        4380             Toys   $79,000  175.75    VC_945  extra_small   \n",
       "7        4389          Bedding  $205,000  170.01    VC_954        large   \n",
       "8        4697      Supplements  $116,000  178.11   VC_1262        small   \n",
       "9        4238         Medicine  $141,000  248.07    VC_803       medium   \n",
       "\n",
       "  pet_type  rating  re_buy  \n",
       "0     fish       7       1  \n",
       "1      cat      10       0  \n",
       "2  hamster       6       0  \n",
       "3      dog       1       1  \n",
       "4      dog      10       0  \n",
       "5      cat      10       0  \n",
       "6      dog       8       0  \n",
       "7      cat       9       0  \n",
       "8      cat      10       0  \n",
       "9      dog      10       1  "
      ]
     },
     "execution_count": 347,
     "metadata": {},
     "output_type": "execute_result"
    }
   ],
   "source": [
    "df.head(10)"
   ]
  },
  {
   "cell_type": "code",
   "execution_count": 348,
   "id": "fe3b86f2",
   "metadata": {},
   "outputs": [
    {
     "data": {
      "text/plain": [
       "879"
      ]
     },
     "execution_count": 348,
     "metadata": {},
     "output_type": "execute_result"
    }
   ],
   "source": [
    "# Column 0: Product ID 沒有重覆值\n",
    "df['product_id'].nunique()"
   ]
  },
  {
   "cell_type": "code",
   "execution_count": 349,
   "id": "20005c00",
   "metadata": {},
   "outputs": [
    {
     "data": {
      "text/plain": [
       "Equipment      141\n",
       "Toys           141\n",
       "Snack          141\n",
       "Medicine        76\n",
       "Supplements     75\n",
       "Food            75\n",
       "Bedding         46\n",
       "Housing         46\n",
       "Clothes         46\n",
       "Accessory       46\n",
       "Grooming        46\n",
       "Name: product_category, dtype: int64"
      ]
     },
     "execution_count": 349,
     "metadata": {},
     "output_type": "execute_result"
    }
   ],
   "source": [
    "# Column 1: Product Category 有11種類別\n",
    "df['product_category'].value_counts()"
   ]
  },
  {
   "cell_type": "code",
   "execution_count": 350,
   "id": "5e835a8f",
   "metadata": {},
   "outputs": [],
   "source": [
    "df['product_category'] = df['product_category'].astype('category')"
   ]
  },
  {
   "cell_type": "code",
   "execution_count": 351,
   "id": "fd35de6a",
   "metadata": {},
   "outputs": [
    {
     "data": {
      "text/plain": [
       "0      123000\n",
       "1       61000\n",
       "2      218000\n",
       "3       69000\n",
       "4      138000\n",
       "        ...  \n",
       "874     27000\n",
       "875     76000\n",
       "876    162000\n",
       "877     34000\n",
       "878     54000\n",
       "Name: sales, Length: 879, dtype: int64"
      ]
     },
     "execution_count": 351,
     "metadata": {},
     "output_type": "execute_result"
    }
   ],
   "source": [
    "# Column 2: Sales\n",
    "df['sales'] = df['sales'].str.strip('$')\n",
    "df['sales'] = df['sales'].str.replace(',','')\n",
    "df['sales'] = df['sales'].astype('int64')\n",
    "df['sales']"
   ]
  },
  {
   "cell_type": "code",
   "execution_count": 352,
   "id": "437c8e4b",
   "metadata": {},
   "outputs": [
    {
     "data": {
      "text/plain": [
       "879"
      ]
     },
     "execution_count": 352,
     "metadata": {},
     "output_type": "execute_result"
    }
   ],
   "source": [
    "df['vendor_id'] = df['vendor_id'].astype('string')\n",
    "df['vendor_id'].nunique()"
   ]
  },
  {
   "cell_type": "code",
   "execution_count": 353,
   "id": "c6ead41e",
   "metadata": {},
   "outputs": [
    {
     "data": {
      "text/plain": [
       "small          280\n",
       "medium         279\n",
       "large          107\n",
       "extra_small    107\n",
       "extra_large    106\n",
       "Name: pet_size, dtype: int64"
      ]
     },
     "execution_count": 353,
     "metadata": {},
     "output_type": "execute_result"
    }
   ],
   "source": [
    "df['pet_size'].value_counts()"
   ]
  },
  {
   "cell_type": "code",
   "execution_count": 354,
   "id": "9e82fd3c",
   "metadata": {},
   "outputs": [],
   "source": [
    "df['pet_size'] = df['pet_size'].astype('category')"
   ]
  },
  {
   "cell_type": "code",
   "execution_count": 355,
   "id": "f2b4a921",
   "metadata": {},
   "outputs": [
    {
     "data": {
      "text/plain": [
       "cat        347\n",
       "dog        347\n",
       "fish        70\n",
       "bird        69\n",
       "hamster     23\n",
       "rabbit      23\n",
       "Name: pet_type, dtype: int64"
      ]
     },
     "execution_count": 355,
     "metadata": {},
     "output_type": "execute_result"
    }
   ],
   "source": [
    "df['pet_type'].value_counts()"
   ]
  },
  {
   "cell_type": "code",
   "execution_count": 356,
   "id": "d9bcc397",
   "metadata": {},
   "outputs": [],
   "source": [
    "# df = df.loc[df['pet_type'].isin(['cat','dog','fish','bird']),:]\n",
    "# df['pet_type'].value_counts()"
   ]
  },
  {
   "cell_type": "code",
   "execution_count": 357,
   "id": "4ef1a36b",
   "metadata": {},
   "outputs": [
    {
     "name": "stdout",
     "output_type": "stream",
     "text": [
      "<class 'pandas.core.frame.DataFrame'>\n",
      "Int64Index: 833 entries, 0 to 878\n",
      "Data columns (total 9 columns):\n",
      " #   Column            Non-Null Count  Dtype   \n",
      "---  ------            --------------  -----   \n",
      " 0   product_id        833 non-null    int64   \n",
      " 1   product_category  833 non-null    category\n",
      " 2   sales             833 non-null    int64   \n",
      " 3   price             833 non-null    float64 \n",
      " 4   vendor_id         833 non-null    string  \n",
      " 5   pet_size          833 non-null    category\n",
      " 6   pet_type          833 non-null    category\n",
      " 7   rating            833 non-null    int64   \n",
      " 8   re_buy            833 non-null    int64   \n",
      "dtypes: category(3), float64(1), int64(4), string(1)\n",
      "memory usage: 48.8 KB\n"
     ]
    }
   ],
   "source": [
    "ham_rabb = df[~df.pet_type.isin(['cat','dog','fish','bird'])]\n",
    "df.drop(ham_rabb.index, inplace=True)\n",
    "df['pet_type'] = df['pet_type'].astype('category')\n",
    "df.info()"
   ]
  },
  {
   "cell_type": "code",
   "execution_count": 358,
   "id": "30511f72",
   "metadata": {},
   "outputs": [
    {
     "data": {
      "text/plain": [
       "cat     347\n",
       "dog     347\n",
       "fish     70\n",
       "bird     69\n",
       "Name: pet_type, dtype: int64"
      ]
     },
     "execution_count": 358,
     "metadata": {},
     "output_type": "execute_result"
    }
   ],
   "source": [
    "df['pet_type'].value_counts()"
   ]
  },
  {
   "cell_type": "code",
   "execution_count": 359,
   "id": "32b5edbc",
   "metadata": {},
   "outputs": [
    {
     "name": "stdout",
     "output_type": "stream",
     "text": [
      "<class 'pandas.core.frame.DataFrame'>\n",
      "Int64Index: 833 entries, 0 to 878\n",
      "Data columns (total 9 columns):\n",
      " #   Column            Non-Null Count  Dtype   \n",
      "---  ------            --------------  -----   \n",
      " 0   product_id        833 non-null    int64   \n",
      " 1   product_category  833 non-null    category\n",
      " 2   sales             833 non-null    int64   \n",
      " 3   price             833 non-null    float64 \n",
      " 4   vendor_id         833 non-null    string  \n",
      " 5   pet_size          833 non-null    category\n",
      " 6   pet_type          833 non-null    category\n",
      " 7   rating            833 non-null    int64   \n",
      " 8   re_buy            833 non-null    int64   \n",
      "dtypes: category(3), float64(1), int64(4), string(1)\n",
      "memory usage: 48.8 KB\n"
     ]
    }
   ],
   "source": [
    "df.info()"
   ]
  },
  {
   "cell_type": "code",
   "execution_count": 360,
   "id": "d24ee809",
   "metadata": {},
   "outputs": [
    {
     "data": {
      "text/plain": [
       "1      59\n",
       "2      59\n",
       "3      35\n",
       "4      32\n",
       "5      29\n",
       "6     210\n",
       "7     118\n",
       "8      37\n",
       "9      37\n",
       "10    217\n",
       "Name: rating, dtype: int64"
      ]
     },
     "execution_count": 360,
     "metadata": {},
     "output_type": "execute_result"
    }
   ],
   "source": [
    "df['rating'].value_counts().sort_index()"
   ]
  },
  {
   "cell_type": "code",
   "execution_count": 361,
   "id": "8e77a16f",
   "metadata": {},
   "outputs": [
    {
     "data": {
      "text/plain": [
       "dtype('bool')"
      ]
     },
     "execution_count": 361,
     "metadata": {},
     "output_type": "execute_result"
    }
   ],
   "source": [
    "df['re_buy'] = df['re_buy'].astype(bool)\n",
    "df.re_buy.dtype"
   ]
  },
  {
   "cell_type": "markdown",
   "id": "b7337f54",
   "metadata": {},
   "source": [
    "# How many products are being purchased more than once?"
   ]
  },
  {
   "cell_type": "code",
   "execution_count": 362,
   "id": "d27bd053",
   "metadata": {
    "scrolled": true
   },
   "outputs": [
    {
     "data": {
      "text/plain": [
       "False    443\n",
       "True     390\n",
       "Name: re_buy, dtype: int64"
      ]
     },
     "execution_count": 362,
     "metadata": {},
     "output_type": "execute_result"
    }
   ],
   "source": [
    "df['re_buy'].value_counts()"
   ]
  },
  {
   "cell_type": "code",
   "execution_count": 363,
   "id": "f4aeb12b",
   "metadata": {},
   "outputs": [
    {
     "data": {
      "text/plain": [
       "<AxesSubplot:xlabel='sales', ylabel='Count'>"
      ]
     },
     "execution_count": 363,
     "metadata": {},
     "output_type": "execute_result"
    },
    {
     "data": {
      "image/png": "[encoded data removed]",
      "text/plain": [
       "<Figure size 640x480 with 1 Axes>"
      ]
     },
     "metadata": {},
     "output_type": "display_data"
    }
   ],
   "source": [
    "sns.histplot(data=df, x='sales', hue='re_buy', multiple='stack')"
   ]
  },
  {
   "cell_type": "code",
   "execution_count": 364,
   "id": "bb9ffe94",
   "metadata": {},
   "outputs": [
    {
     "data": {
      "image/png": "[encoded data removed]",
      "text/plain": [
       "<Figure size 500x500 with 1 Axes>"
      ]
     },
     "metadata": {},
     "output_type": "display_data"
    }
   ],
   "source": [
    "sns.set_style(\"whitegrid\")\n",
    "sns.set_palette('pastel')\n",
    "g = sns.catplot(x=\"re_buy\", data=df, kind=\"count\")\n",
    "g.set_xticklabels([\"Purchased once\", \"Purchased more than once\"])\n",
    "plt.show()"
   ]
  },
  {
   "cell_type": "markdown",
   "id": "22131c2f",
   "metadata": {},
   "source": [
    "# Do the products being purchased again have better sales than others?"
   ]
  },
  {
   "cell_type": "code",
   "execution_count": 365,
   "id": "7419e1d9",
   "metadata": {},
   "outputs": [
    {
     "data": {
      "text/html": [
       "<div>\n",
       "<style scoped>\n",
       "    .dataframe tbody tr th:only-of-type {\n",
       "        vertical-align: middle;\n",
       "    }\n",
       "\n",
       "    .dataframe tbody tr th {\n",
       "        vertical-align: top;\n",
       "    }\n",
       "\n",
       "    .dataframe thead th {\n",
       "        text-align: right;\n",
       "    }\n",
       "</style>\n",
       "<table border=\"1\" class=\"dataframe\">\n",
       "  <thead>\n",
       "    <tr style=\"text-align: right;\">\n",
       "      <th></th>\n",
       "      <th>sum</th>\n",
       "      <th>mean</th>\n",
       "      <th>std</th>\n",
       "      <th>median</th>\n",
       "    </tr>\n",
       "    <tr>\n",
       "      <th>re_buy</th>\n",
       "      <th></th>\n",
       "      <th></th>\n",
       "      <th></th>\n",
       "      <th></th>\n",
       "    </tr>\n",
       "  </thead>\n",
       "  <tbody>\n",
       "    <tr>\n",
       "      <th>False</th>\n",
       "      <td>51125000</td>\n",
       "      <td>115406.320542</td>\n",
       "      <td>67746.080054</td>\n",
       "      <td>116000.0</td>\n",
       "    </tr>\n",
       "    <tr>\n",
       "      <th>True</th>\n",
       "      <td>45587000</td>\n",
       "      <td>116889.743590</td>\n",
       "      <td>64750.266924</td>\n",
       "      <td>117500.0</td>\n",
       "    </tr>\n",
       "  </tbody>\n",
       "</table>\n",
       "</div>"
      ],
      "text/plain": [
       "             sum           mean           std    median\n",
       "re_buy                                                 \n",
       "False   51125000  115406.320542  67746.080054  116000.0\n",
       "True    45587000  116889.743590  64750.266924  117500.0"
      ]
     },
     "execution_count": 365,
     "metadata": {},
     "output_type": "execute_result"
    }
   ],
   "source": [
    "df.groupby('re_buy')['sales'].agg(['sum', 'mean','std','median'])"
   ]
  },
  {
   "cell_type": "code",
   "execution_count": 366,
   "id": "580f5a0c",
   "metadata": {},
   "outputs": [
    {
     "data": {
      "text/html": [
       "<div>\n",
       "<style scoped>\n",
       "    .dataframe tbody tr th:only-of-type {\n",
       "        vertical-align: middle;\n",
       "    }\n",
       "\n",
       "    .dataframe tbody tr th {\n",
       "        vertical-align: top;\n",
       "    }\n",
       "\n",
       "    .dataframe thead th {\n",
       "        text-align: right;\n",
       "    }\n",
       "</style>\n",
       "<table border=\"1\" class=\"dataframe\">\n",
       "  <thead>\n",
       "    <tr style=\"text-align: right;\">\n",
       "      <th></th>\n",
       "      <th>count</th>\n",
       "      <th>mean</th>\n",
       "      <th>std</th>\n",
       "      <th>min</th>\n",
       "      <th>25%</th>\n",
       "      <th>50%</th>\n",
       "      <th>75%</th>\n",
       "      <th>max</th>\n",
       "    </tr>\n",
       "    <tr>\n",
       "      <th>re_buy</th>\n",
       "      <th></th>\n",
       "      <th></th>\n",
       "      <th></th>\n",
       "      <th></th>\n",
       "      <th></th>\n",
       "      <th></th>\n",
       "      <th></th>\n",
       "      <th></th>\n",
       "    </tr>\n",
       "  </thead>\n",
       "  <tbody>\n",
       "    <tr>\n",
       "      <th>False</th>\n",
       "      <td>443.0</td>\n",
       "      <td>115406.320542</td>\n",
       "      <td>67746.080054</td>\n",
       "      <td>3000.0</td>\n",
       "      <td>57000.0</td>\n",
       "      <td>116000.0</td>\n",
       "      <td>179500.0</td>\n",
       "      <td>230000.0</td>\n",
       "    </tr>\n",
       "    <tr>\n",
       "      <th>True</th>\n",
       "      <td>390.0</td>\n",
       "      <td>116889.743590</td>\n",
       "      <td>64750.266924</td>\n",
       "      <td>3000.0</td>\n",
       "      <td>61000.0</td>\n",
       "      <td>117500.0</td>\n",
       "      <td>176750.0</td>\n",
       "      <td>230000.0</td>\n",
       "    </tr>\n",
       "  </tbody>\n",
       "</table>\n",
       "</div>"
      ],
      "text/plain": [
       "        count           mean           std     min      25%       50%  \\\n",
       "re_buy                                                                  \n",
       "False   443.0  115406.320542  67746.080054  3000.0  57000.0  116000.0   \n",
       "True    390.0  116889.743590  64750.266924  3000.0  61000.0  117500.0   \n",
       "\n",
       "             75%       max  \n",
       "re_buy                      \n",
       "False   179500.0  230000.0  \n",
       "True    176750.0  230000.0  "
      ]
     },
     "execution_count": 366,
     "metadata": {},
     "output_type": "execute_result"
    }
   ],
   "source": [
    "df.groupby('re_buy')['sales'].describe()"
   ]
  },
  {
   "cell_type": "code",
   "execution_count": 367,
   "id": "1e45a24b",
   "metadata": {},
   "outputs": [
    {
     "data": {
      "image/png": "[encoded data removed]",
      "text/plain": [
       "<Figure size 500x500 with 1 Axes>"
      ]
     },
     "metadata": {},
     "output_type": "display_data"
    }
   ],
   "source": [
    "g = sns.catplot(x=\"re_buy\", y=\"sales\", data=df, kind=\"box\")\n",
    "g.set_xticklabels([\"Purchased once\", \"Purchased more than once\"])\n",
    "plt.show()"
   ]
  },
  {
   "cell_type": "markdown",
   "id": "6d86e31d",
   "metadata": {},
   "source": [
    "# What products are more likely to be purchased again for different types of pets?"
   ]
  },
  {
   "cell_type": "code",
   "execution_count": 368,
   "id": "c3ece26b",
   "metadata": {},
   "outputs": [],
   "source": [
    "#order = ['extra_small','small','medium','large','extra_large']\n",
    "#g = sns.catplot(x=\"re_buy\", col='pet_type', data=df, kind=\"count\", hue='pet_size', hue_order=order)\n",
    "# g.set_xticklabels([\"Purchased once\", \"Purchased more than once\"])"
   ]
  },
  {
   "cell_type": "code",
   "execution_count": 369,
   "id": "06dcdd4d",
   "metadata": {},
   "outputs": [
    {
     "data": {
      "image/png": "[encoded data removed]",
      "text/plain": [
       "<Figure size 2083.88x500 with 4 Axes>"
      ]
     },
     "metadata": {},
     "output_type": "display_data"
    }
   ],
   "source": [
    "g = sns.catplot(x=\"product_category\", data=df, kind=\"count\", hue='re_buy',col='pet_type')\n",
    "g.set_xticklabels(rotation=90)\n",
    "plt.show()"
   ]
  },
  {
   "cell_type": "code",
   "execution_count": 370,
   "id": "17cf9627",
   "metadata": {},
   "outputs": [
    {
     "data": {
      "text/plain": [
       "product_category  re_buy\n",
       "Accessory         False     0.523810\n",
       "                  True      0.476190\n",
       "Bedding           True      0.571429\n",
       "                  False     0.428571\n",
       "Clothes           False     0.547619\n",
       "                  True      0.452381\n",
       "Equipment         True      0.503650\n",
       "                  False     0.496350\n",
       "Food              True      0.521127\n",
       "                  False     0.478873\n",
       "Grooming          False     0.585366\n",
       "                  True      0.414634\n",
       "Housing           False     0.523810\n",
       "                  True      0.476190\n",
       "Medicine          True      0.513889\n",
       "                  False     0.486111\n",
       "Snack             False     0.566176\n",
       "                  True      0.433824\n",
       "Supplements       False     0.577465\n",
       "                  True      0.422535\n",
       "Toys              False     0.576642\n",
       "                  True      0.423358\n",
       "Name: re_buy, dtype: float64"
      ]
     },
     "execution_count": 370,
     "metadata": {},
     "output_type": "execute_result"
    }
   ],
   "source": [
    "df.groupby(['product_category'])['re_buy'].value_counts(normalize=True)"
   ]
  },
  {
   "cell_type": "code",
   "execution_count": 371,
   "id": "32275657",
   "metadata": {},
   "outputs": [
    {
     "data": {
      "text/html": [
       "<div>\n",
       "<style scoped>\n",
       "    .dataframe tbody tr th:only-of-type {\n",
       "        vertical-align: middle;\n",
       "    }\n",
       "\n",
       "    .dataframe tbody tr th {\n",
       "        vertical-align: top;\n",
       "    }\n",
       "\n",
       "    .dataframe thead th {\n",
       "        text-align: right;\n",
       "    }\n",
       "</style>\n",
       "<table border=\"1\" class=\"dataframe\">\n",
       "  <thead>\n",
       "    <tr style=\"text-align: right;\">\n",
       "      <th>re_buy</th>\n",
       "      <th>False</th>\n",
       "      <th>True</th>\n",
       "    </tr>\n",
       "    <tr>\n",
       "      <th>product_category</th>\n",
       "      <th></th>\n",
       "      <th></th>\n",
       "    </tr>\n",
       "  </thead>\n",
       "  <tbody>\n",
       "    <tr>\n",
       "      <th>Accessory</th>\n",
       "      <td>0.523810</td>\n",
       "      <td>0.476190</td>\n",
       "    </tr>\n",
       "    <tr>\n",
       "      <th>Bedding</th>\n",
       "      <td>0.428571</td>\n",
       "      <td>0.571429</td>\n",
       "    </tr>\n",
       "    <tr>\n",
       "      <th>Clothes</th>\n",
       "      <td>0.547619</td>\n",
       "      <td>0.452381</td>\n",
       "    </tr>\n",
       "    <tr>\n",
       "      <th>Equipment</th>\n",
       "      <td>0.496350</td>\n",
       "      <td>0.503650</td>\n",
       "    </tr>\n",
       "    <tr>\n",
       "      <th>Food</th>\n",
       "      <td>0.478873</td>\n",
       "      <td>0.521127</td>\n",
       "    </tr>\n",
       "    <tr>\n",
       "      <th>Grooming</th>\n",
       "      <td>0.585366</td>\n",
       "      <td>0.414634</td>\n",
       "    </tr>\n",
       "    <tr>\n",
       "      <th>Housing</th>\n",
       "      <td>0.523810</td>\n",
       "      <td>0.476190</td>\n",
       "    </tr>\n",
       "    <tr>\n",
       "      <th>Medicine</th>\n",
       "      <td>0.486111</td>\n",
       "      <td>0.513889</td>\n",
       "    </tr>\n",
       "    <tr>\n",
       "      <th>Snack</th>\n",
       "      <td>0.566176</td>\n",
       "      <td>0.433824</td>\n",
       "    </tr>\n",
       "    <tr>\n",
       "      <th>Supplements</th>\n",
       "      <td>0.577465</td>\n",
       "      <td>0.422535</td>\n",
       "    </tr>\n",
       "    <tr>\n",
       "      <th>Toys</th>\n",
       "      <td>0.576642</td>\n",
       "      <td>0.423358</td>\n",
       "    </tr>\n",
       "  </tbody>\n",
       "</table>\n",
       "</div>"
      ],
      "text/plain": [
       "re_buy               False      True\n",
       "product_category                    \n",
       "Accessory         0.523810  0.476190\n",
       "Bedding           0.428571  0.571429\n",
       "Clothes           0.547619  0.452381\n",
       "Equipment         0.496350  0.503650\n",
       "Food              0.478873  0.521127\n",
       "Grooming          0.585366  0.414634\n",
       "Housing           0.523810  0.476190\n",
       "Medicine          0.486111  0.513889\n",
       "Snack             0.566176  0.433824\n",
       "Supplements       0.577465  0.422535\n",
       "Toys              0.576642  0.423358"
      ]
     },
     "execution_count": 371,
     "metadata": {},
     "output_type": "execute_result"
    }
   ],
   "source": [
    "# https://towardsdatascience.com/100-stacked-charts-in-python-6ca3e1962d2b\n",
    "cross_tab_prop = pd.crosstab(index=df['product_category'],columns=df['re_buy'], normalize=\"index\")\n",
    "cross_tab_prop"
   ]
  },
  {
   "cell_type": "markdown",
   "id": "ede89c78",
   "metadata": {},
   "source": [
    "## 根據不同動物分析產品"
   ]
  },
  {
   "cell_type": "code",
   "execution_count": 372,
   "id": "8eace360",
   "metadata": {},
   "outputs": [
    {
     "data": {
      "text/plain": [
       "cat     347\n",
       "dog     347\n",
       "fish     70\n",
       "bird     69\n",
       "Name: pet_type, dtype: int64"
      ]
     },
     "execution_count": 372,
     "metadata": {},
     "output_type": "execute_result"
    }
   ],
   "source": [
    "df.pet_type.value_counts()"
   ]
  },
  {
   "cell_type": "code",
   "execution_count": 373,
   "id": "0abe8152",
   "metadata": {},
   "outputs": [],
   "source": [
    "df['quantity'] = df['sales']//df.price"
   ]
  },
  {
   "cell_type": "code",
   "execution_count": 374,
   "id": "f8493c9a",
   "metadata": {},
   "outputs": [],
   "source": [
    "cat = df.loc[df['pet_type'].isin(['cat']) & df['re_buy']==True]\n",
    "dog = df.loc[df['pet_type'].isin(['dog']) & df['re_buy']==True]\n",
    "bird = df.loc[df['pet_type'].isin(['bird']) & df['re_buy']==True]\n",
    "fish = df.loc[df['pet_type'].isin(['fish']) & df['re_buy']==True]"
   ]
  },
  {
   "cell_type": "code",
   "execution_count": 375,
   "id": "0874af17",
   "metadata": {},
   "outputs": [],
   "source": [
    "# cat['quantity'].sort_values(ascending=False).head(10)\n",
    "# df.nlargest(3, 'Client')"
   ]
  },
  {
   "cell_type": "code",
   "execution_count": 376,
   "id": "6edb7677",
   "metadata": {},
   "outputs": [
    {
     "data": {
      "text/html": [
       "<div>\n",
       "<style scoped>\n",
       "    .dataframe tbody tr th:only-of-type {\n",
       "        vertical-align: middle;\n",
       "    }\n",
       "\n",
       "    .dataframe tbody tr th {\n",
       "        vertical-align: top;\n",
       "    }\n",
       "\n",
       "    .dataframe thead th {\n",
       "        text-align: right;\n",
       "    }\n",
       "</style>\n",
       "<table border=\"1\" class=\"dataframe\">\n",
       "  <thead>\n",
       "    <tr style=\"text-align: right;\">\n",
       "      <th></th>\n",
       "      <th>product_id</th>\n",
       "      <th>product_category</th>\n",
       "      <th>sales</th>\n",
       "      <th>price</th>\n",
       "      <th>vendor_id</th>\n",
       "      <th>pet_size</th>\n",
       "      <th>pet_type</th>\n",
       "      <th>rating</th>\n",
       "      <th>re_buy</th>\n",
       "      <th>quantity</th>\n",
       "    </tr>\n",
       "  </thead>\n",
       "  <tbody>\n",
       "    <tr>\n",
       "      <th>473</th>\n",
       "      <td>4755</td>\n",
       "      <td>Food</td>\n",
       "      <td>157000</td>\n",
       "      <td>2.35</td>\n",
       "      <td>VC_1320</td>\n",
       "      <td>medium</td>\n",
       "      <td>cat</td>\n",
       "      <td>7</td>\n",
       "      <td>True</td>\n",
       "      <td>66808.0</td>\n",
       "    </tr>\n",
       "    <tr>\n",
       "      <th>405</th>\n",
       "      <td>4587</td>\n",
       "      <td>Bedding</td>\n",
       "      <td>202000</td>\n",
       "      <td>13.29</td>\n",
       "      <td>VC_1152</td>\n",
       "      <td>small</td>\n",
       "      <td>cat</td>\n",
       "      <td>10</td>\n",
       "      <td>True</td>\n",
       "      <td>15199.0</td>\n",
       "    </tr>\n",
       "    <tr>\n",
       "      <th>19</th>\n",
       "      <td>4341</td>\n",
       "      <td>Food</td>\n",
       "      <td>126000</td>\n",
       "      <td>10.92</td>\n",
       "      <td>VC_906</td>\n",
       "      <td>extra_large</td>\n",
       "      <td>cat</td>\n",
       "      <td>5</td>\n",
       "      <td>True</td>\n",
       "      <td>11538.0</td>\n",
       "    </tr>\n",
       "    <tr>\n",
       "      <th>470</th>\n",
       "      <td>4583</td>\n",
       "      <td>Food</td>\n",
       "      <td>228000</td>\n",
       "      <td>22.16</td>\n",
       "      <td>VC_1148</td>\n",
       "      <td>medium</td>\n",
       "      <td>cat</td>\n",
       "      <td>10</td>\n",
       "      <td>True</td>\n",
       "      <td>10288.0</td>\n",
       "    </tr>\n",
       "    <tr>\n",
       "      <th>432</th>\n",
       "      <td>4797</td>\n",
       "      <td>Equipment</td>\n",
       "      <td>189000</td>\n",
       "      <td>24.10</td>\n",
       "      <td>VC_1362</td>\n",
       "      <td>medium</td>\n",
       "      <td>cat</td>\n",
       "      <td>7</td>\n",
       "      <td>True</td>\n",
       "      <td>7842.0</td>\n",
       "    </tr>\n",
       "  </tbody>\n",
       "</table>\n",
       "</div>"
      ],
      "text/plain": [
       "     product_id product_category   sales  price vendor_id     pet_size  \\\n",
       "473        4755             Food  157000   2.35   VC_1320       medium   \n",
       "405        4587          Bedding  202000  13.29   VC_1152        small   \n",
       "19         4341             Food  126000  10.92    VC_906  extra_large   \n",
       "470        4583             Food  228000  22.16   VC_1148       medium   \n",
       "432        4797        Equipment  189000  24.10   VC_1362       medium   \n",
       "\n",
       "    pet_type  rating  re_buy  quantity  \n",
       "473      cat       7    True   66808.0  \n",
       "405      cat      10    True   15199.0  \n",
       "19       cat       5    True   11538.0  \n",
       "470      cat      10    True   10288.0  \n",
       "432      cat       7    True    7842.0  "
      ]
     },
     "execution_count": 376,
     "metadata": {},
     "output_type": "execute_result"
    }
   ],
   "source": [
    "cat.nlargest(5, 'quantity')"
   ]
  },
  {
   "cell_type": "code",
   "execution_count": 380,
   "id": "9db4f006",
   "metadata": {},
   "outputs": [
    {
     "data": {
      "text/html": [
       "<div>\n",
       "<style scoped>\n",
       "    .dataframe tbody tr th:only-of-type {\n",
       "        vertical-align: middle;\n",
       "    }\n",
       "\n",
       "    .dataframe tbody tr th {\n",
       "        vertical-align: top;\n",
       "    }\n",
       "\n",
       "    .dataframe thead th {\n",
       "        text-align: right;\n",
       "    }\n",
       "</style>\n",
       "<table border=\"1\" class=\"dataframe\">\n",
       "  <thead>\n",
       "    <tr style=\"text-align: right;\">\n",
       "      <th></th>\n",
       "      <th>product_id</th>\n",
       "      <th>product_category</th>\n",
       "      <th>sales</th>\n",
       "      <th>price</th>\n",
       "      <th>vendor_id</th>\n",
       "      <th>pet_size</th>\n",
       "      <th>pet_type</th>\n",
       "      <th>rating</th>\n",
       "      <th>re_buy</th>\n",
       "      <th>quantity</th>\n",
       "    </tr>\n",
       "  </thead>\n",
       "  <tbody>\n",
       "    <tr>\n",
       "      <th>97</th>\n",
       "      <td>4520</td>\n",
       "      <td>Clothes</td>\n",
       "      <td>141000</td>\n",
       "      <td>3.33</td>\n",
       "      <td>VC_1085</td>\n",
       "      <td>extra_small</td>\n",
       "      <td>dog</td>\n",
       "      <td>4</td>\n",
       "      <td>True</td>\n",
       "      <td>42342.0</td>\n",
       "    </tr>\n",
       "    <tr>\n",
       "      <th>70</th>\n",
       "      <td>4500</td>\n",
       "      <td>Housing</td>\n",
       "      <td>177000</td>\n",
       "      <td>4.76</td>\n",
       "      <td>VC_1065</td>\n",
       "      <td>extra_small</td>\n",
       "      <td>dog</td>\n",
       "      <td>8</td>\n",
       "      <td>True</td>\n",
       "      <td>37184.0</td>\n",
       "    </tr>\n",
       "    <tr>\n",
       "      <th>693</th>\n",
       "      <td>4390</td>\n",
       "      <td>Housing</td>\n",
       "      <td>120000</td>\n",
       "      <td>4.41</td>\n",
       "      <td>VC_955</td>\n",
       "      <td>extra_small</td>\n",
       "      <td>dog</td>\n",
       "      <td>5</td>\n",
       "      <td>True</td>\n",
       "      <td>27210.0</td>\n",
       "    </tr>\n",
       "    <tr>\n",
       "      <th>593</th>\n",
       "      <td>4540</td>\n",
       "      <td>Snack</td>\n",
       "      <td>177000</td>\n",
       "      <td>8.97</td>\n",
       "      <td>VC_1105</td>\n",
       "      <td>extra_small</td>\n",
       "      <td>dog</td>\n",
       "      <td>10</td>\n",
       "      <td>True</td>\n",
       "      <td>19732.0</td>\n",
       "    </tr>\n",
       "    <tr>\n",
       "      <th>728</th>\n",
       "      <td>4620</td>\n",
       "      <td>Bedding</td>\n",
       "      <td>199000</td>\n",
       "      <td>13.51</td>\n",
       "      <td>VC_1185</td>\n",
       "      <td>extra_small</td>\n",
       "      <td>dog</td>\n",
       "      <td>10</td>\n",
       "      <td>True</td>\n",
       "      <td>14729.0</td>\n",
       "    </tr>\n",
       "    <tr>\n",
       "      <th>739</th>\n",
       "      <td>4842</td>\n",
       "      <td>Equipment</td>\n",
       "      <td>199000</td>\n",
       "      <td>14.55</td>\n",
       "      <td>VC_1407</td>\n",
       "      <td>small</td>\n",
       "      <td>dog</td>\n",
       "      <td>1</td>\n",
       "      <td>True</td>\n",
       "      <td>13676.0</td>\n",
       "    </tr>\n",
       "    <tr>\n",
       "      <th>413</th>\n",
       "      <td>4860</td>\n",
       "      <td>Equipment</td>\n",
       "      <td>191000</td>\n",
       "      <td>17.46</td>\n",
       "      <td>VC_1425</td>\n",
       "      <td>small</td>\n",
       "      <td>dog</td>\n",
       "      <td>1</td>\n",
       "      <td>True</td>\n",
       "      <td>10939.0</td>\n",
       "    </tr>\n",
       "    <tr>\n",
       "      <th>390</th>\n",
       "      <td>4522</td>\n",
       "      <td>Housing</td>\n",
       "      <td>193000</td>\n",
       "      <td>18.12</td>\n",
       "      <td>VC_1087</td>\n",
       "      <td>small</td>\n",
       "      <td>dog</td>\n",
       "      <td>9</td>\n",
       "      <td>True</td>\n",
       "      <td>10651.0</td>\n",
       "    </tr>\n",
       "    <tr>\n",
       "      <th>699</th>\n",
       "      <td>4608</td>\n",
       "      <td>Clothes</td>\n",
       "      <td>56000</td>\n",
       "      <td>6.49</td>\n",
       "      <td>VC_1173</td>\n",
       "      <td>medium</td>\n",
       "      <td>dog</td>\n",
       "      <td>10</td>\n",
       "      <td>True</td>\n",
       "      <td>8628.0</td>\n",
       "    </tr>\n",
       "    <tr>\n",
       "      <th>72</th>\n",
       "      <td>4482</td>\n",
       "      <td>Grooming</td>\n",
       "      <td>210000</td>\n",
       "      <td>26.68</td>\n",
       "      <td>VC_1047</td>\n",
       "      <td>small</td>\n",
       "      <td>dog</td>\n",
       "      <td>4</td>\n",
       "      <td>True</td>\n",
       "      <td>7871.0</td>\n",
       "    </tr>\n",
       "  </tbody>\n",
       "</table>\n",
       "</div>"
      ],
      "text/plain": [
       "     product_id product_category   sales  price vendor_id     pet_size  \\\n",
       "97         4520          Clothes  141000   3.33   VC_1085  extra_small   \n",
       "70         4500          Housing  177000   4.76   VC_1065  extra_small   \n",
       "693        4390          Housing  120000   4.41    VC_955  extra_small   \n",
       "593        4540            Snack  177000   8.97   VC_1105  extra_small   \n",
       "728        4620          Bedding  199000  13.51   VC_1185  extra_small   \n",
       "739        4842        Equipment  199000  14.55   VC_1407        small   \n",
       "413        4860        Equipment  191000  17.46   VC_1425        small   \n",
       "390        4522          Housing  193000  18.12   VC_1087        small   \n",
       "699        4608          Clothes   56000   6.49   VC_1173       medium   \n",
       "72         4482         Grooming  210000  26.68   VC_1047        small   \n",
       "\n",
       "    pet_type  rating  re_buy  quantity  \n",
       "97       dog       4    True   42342.0  \n",
       "70       dog       8    True   37184.0  \n",
       "693      dog       5    True   27210.0  \n",
       "593      dog      10    True   19732.0  \n",
       "728      dog      10    True   14729.0  \n",
       "739      dog       1    True   13676.0  \n",
       "413      dog       1    True   10939.0  \n",
       "390      dog       9    True   10651.0  \n",
       "699      dog      10    True    8628.0  \n",
       "72       dog       4    True    7871.0  "
      ]
     },
     "execution_count": 380,
     "metadata": {},
     "output_type": "execute_result"
    }
   ],
   "source": [
    "dog.nlargest(10, 'quantity')"
   ]
  },
  {
   "cell_type": "code",
   "execution_count": 378,
   "id": "a864165e",
   "metadata": {},
   "outputs": [
    {
     "data": {
      "text/html": [
       "<div>\n",
       "<style scoped>\n",
       "    .dataframe tbody tr th:only-of-type {\n",
       "        vertical-align: middle;\n",
       "    }\n",
       "\n",
       "    .dataframe tbody tr th {\n",
       "        vertical-align: top;\n",
       "    }\n",
       "\n",
       "    .dataframe thead th {\n",
       "        text-align: right;\n",
       "    }\n",
       "</style>\n",
       "<table border=\"1\" class=\"dataframe\">\n",
       "  <thead>\n",
       "    <tr style=\"text-align: right;\">\n",
       "      <th></th>\n",
       "      <th>product_id</th>\n",
       "      <th>product_category</th>\n",
       "      <th>sales</th>\n",
       "      <th>price</th>\n",
       "      <th>vendor_id</th>\n",
       "      <th>pet_size</th>\n",
       "      <th>pet_type</th>\n",
       "      <th>rating</th>\n",
       "      <th>re_buy</th>\n",
       "      <th>quantity</th>\n",
       "    </tr>\n",
       "  </thead>\n",
       "  <tbody>\n",
       "    <tr>\n",
       "      <th>553</th>\n",
       "      <td>5030</td>\n",
       "      <td>Toys</td>\n",
       "      <td>133000</td>\n",
       "      <td>8.84</td>\n",
       "      <td>VC_1595</td>\n",
       "      <td>small</td>\n",
       "      <td>fish</td>\n",
       "      <td>6</td>\n",
       "      <td>True</td>\n",
       "      <td>15045.0</td>\n",
       "    </tr>\n",
       "    <tr>\n",
       "      <th>24</th>\n",
       "      <td>4271</td>\n",
       "      <td>Medicine</td>\n",
       "      <td>188000</td>\n",
       "      <td>22.01</td>\n",
       "      <td>VC_836</td>\n",
       "      <td>extra_large</td>\n",
       "      <td>fish</td>\n",
       "      <td>4</td>\n",
       "      <td>True</td>\n",
       "      <td>8541.0</td>\n",
       "    </tr>\n",
       "    <tr>\n",
       "      <th>199</th>\n",
       "      <td>4217</td>\n",
       "      <td>Supplements</td>\n",
       "      <td>177000</td>\n",
       "      <td>36.11</td>\n",
       "      <td>VC_782</td>\n",
       "      <td>small</td>\n",
       "      <td>fish</td>\n",
       "      <td>6</td>\n",
       "      <td>True</td>\n",
       "      <td>4901.0</td>\n",
       "    </tr>\n",
       "    <tr>\n",
       "      <th>575</th>\n",
       "      <td>5014</td>\n",
       "      <td>Snack</td>\n",
       "      <td>111000</td>\n",
       "      <td>28.85</td>\n",
       "      <td>VC_1579</td>\n",
       "      <td>small</td>\n",
       "      <td>fish</td>\n",
       "      <td>6</td>\n",
       "      <td>True</td>\n",
       "      <td>3847.0</td>\n",
       "    </tr>\n",
       "    <tr>\n",
       "      <th>226</th>\n",
       "      <td>5032</td>\n",
       "      <td>Snack</td>\n",
       "      <td>132000</td>\n",
       "      <td>67.91</td>\n",
       "      <td>VC_1597</td>\n",
       "      <td>small</td>\n",
       "      <td>fish</td>\n",
       "      <td>6</td>\n",
       "      <td>True</td>\n",
       "      <td>1943.0</td>\n",
       "    </tr>\n",
       "  </tbody>\n",
       "</table>\n",
       "</div>"
      ],
      "text/plain": [
       "     product_id product_category   sales  price vendor_id     pet_size  \\\n",
       "553        5030             Toys  133000   8.84   VC_1595        small   \n",
       "24         4271         Medicine  188000  22.01    VC_836  extra_large   \n",
       "199        4217      Supplements  177000  36.11    VC_782        small   \n",
       "575        5014            Snack  111000  28.85   VC_1579        small   \n",
       "226        5032            Snack  132000  67.91   VC_1597        small   \n",
       "\n",
       "    pet_type  rating  re_buy  quantity  \n",
       "553     fish       6    True   15045.0  \n",
       "24      fish       4    True    8541.0  \n",
       "199     fish       6    True    4901.0  \n",
       "575     fish       6    True    3847.0  \n",
       "226     fish       6    True    1943.0  "
      ]
     },
     "execution_count": 378,
     "metadata": {},
     "output_type": "execute_result"
    }
   ],
   "source": [
    "fish.nlargest(5, 'quantity')"
   ]
  },
  {
   "cell_type": "code",
   "execution_count": 379,
   "id": "ad9e154c",
   "metadata": {},
   "outputs": [
    {
     "data": {
      "text/html": [
       "<div>\n",
       "<style scoped>\n",
       "    .dataframe tbody tr th:only-of-type {\n",
       "        vertical-align: middle;\n",
       "    }\n",
       "\n",
       "    .dataframe tbody tr th {\n",
       "        vertical-align: top;\n",
       "    }\n",
       "\n",
       "    .dataframe thead th {\n",
       "        text-align: right;\n",
       "    }\n",
       "</style>\n",
       "<table border=\"1\" class=\"dataframe\">\n",
       "  <thead>\n",
       "    <tr style=\"text-align: right;\">\n",
       "      <th></th>\n",
       "      <th>product_id</th>\n",
       "      <th>product_category</th>\n",
       "      <th>sales</th>\n",
       "      <th>price</th>\n",
       "      <th>vendor_id</th>\n",
       "      <th>pet_size</th>\n",
       "      <th>pet_type</th>\n",
       "      <th>rating</th>\n",
       "      <th>re_buy</th>\n",
       "      <th>quantity</th>\n",
       "    </tr>\n",
       "  </thead>\n",
       "  <tbody>\n",
       "    <tr>\n",
       "      <th>751</th>\n",
       "      <td>5037</td>\n",
       "      <td>Equipment</td>\n",
       "      <td>157000</td>\n",
       "      <td>0.35</td>\n",
       "      <td>VC_1602</td>\n",
       "      <td>medium</td>\n",
       "      <td>bird</td>\n",
       "      <td>7</td>\n",
       "      <td>True</td>\n",
       "      <td>448571.0</td>\n",
       "    </tr>\n",
       "    <tr>\n",
       "      <th>190</th>\n",
       "      <td>4242</td>\n",
       "      <td>Food</td>\n",
       "      <td>142000</td>\n",
       "      <td>14.42</td>\n",
       "      <td>VC_807</td>\n",
       "      <td>small</td>\n",
       "      <td>bird</td>\n",
       "      <td>3</td>\n",
       "      <td>True</td>\n",
       "      <td>9847.0</td>\n",
       "    </tr>\n",
       "    <tr>\n",
       "      <th>283</th>\n",
       "      <td>5017</td>\n",
       "      <td>Snack</td>\n",
       "      <td>146000</td>\n",
       "      <td>20.15</td>\n",
       "      <td>VC_1582</td>\n",
       "      <td>medium</td>\n",
       "      <td>bird</td>\n",
       "      <td>6</td>\n",
       "      <td>True</td>\n",
       "      <td>7245.0</td>\n",
       "    </tr>\n",
       "    <tr>\n",
       "      <th>543</th>\n",
       "      <td>4200</td>\n",
       "      <td>Equipment</td>\n",
       "      <td>151000</td>\n",
       "      <td>65.79</td>\n",
       "      <td>VC_765</td>\n",
       "      <td>extra_small</td>\n",
       "      <td>bird</td>\n",
       "      <td>1</td>\n",
       "      <td>True</td>\n",
       "      <td>2295.0</td>\n",
       "    </tr>\n",
       "    <tr>\n",
       "      <th>346</th>\n",
       "      <td>5035</td>\n",
       "      <td>Snack</td>\n",
       "      <td>198000</td>\n",
       "      <td>94.29</td>\n",
       "      <td>VC_1600</td>\n",
       "      <td>medium</td>\n",
       "      <td>bird</td>\n",
       "      <td>7</td>\n",
       "      <td>True</td>\n",
       "      <td>2099.0</td>\n",
       "    </tr>\n",
       "  </tbody>\n",
       "</table>\n",
       "</div>"
      ],
      "text/plain": [
       "     product_id product_category   sales  price vendor_id     pet_size  \\\n",
       "751        5037        Equipment  157000   0.35   VC_1602       medium   \n",
       "190        4242             Food  142000  14.42    VC_807        small   \n",
       "283        5017            Snack  146000  20.15   VC_1582       medium   \n",
       "543        4200        Equipment  151000  65.79    VC_765  extra_small   \n",
       "346        5035            Snack  198000  94.29   VC_1600       medium   \n",
       "\n",
       "    pet_type  rating  re_buy  quantity  \n",
       "751     bird       7    True  448571.0  \n",
       "190     bird       3    True    9847.0  \n",
       "283     bird       6    True    7245.0  \n",
       "543     bird       1    True    2295.0  \n",
       "346     bird       7    True    2099.0  "
      ]
     },
     "execution_count": 379,
     "metadata": {},
     "output_type": "execute_result"
    }
   ],
   "source": [
    "bird.nlargest(5, 'quantity')"
   ]
  }
 ],
 "metadata": {
  "kernelspec": {
   "display_name": "Python 3 (ipykernel)",
   "language": "python",
   "name": "python3"
  },
  "language_info": {
   "codemirror_mode": {
    "name": "ipython",
    "version": 3
   },
   "file_extension": ".py",
   "mimetype": "text/x-python",
   "name": "python",
   "nbconvert_exporter": "python",
   "pygments_lexer": "ipython3",
   "version": "3.9.7"
  },
  "toc": {
   "base_numbering": 1,
   "nav_menu": {},
   "number_sections": true,
   "sideBar": true,
   "skip_h1_title": false,
   "title_cell": "Table of Contents",
   "title_sidebar": "Contents",
   "toc_cell": false,
   "toc_position": {},
   "toc_section_display": true,
   "toc_window_display": false
  }
 },
 "nbformat": 4,
 "nbformat_minor": 5
}
