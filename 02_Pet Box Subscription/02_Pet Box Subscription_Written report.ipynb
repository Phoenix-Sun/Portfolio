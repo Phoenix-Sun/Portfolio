{
 "cells": [
  {
   "cell_type": "markdown",
   "id": "2d3bef19-d5ce-46dd-ba49-96160fa0f33e",
   "metadata": {},
   "source": [
    "# Data Analyst Associate Practical Exam Submission"
   ]
  },
  {
   "cell_type": "markdown",
   "id": "2f850684-143e-4f6e-9126-9a1cda10532a",
   "metadata": {
    "tags": []
   },
   "source": [
    "### *Pet Box Subscription - provided background information*"
   ]
  },
  {
   "cell_type": "markdown",
   "id": "a874938b-af64-4f9c-9673-961626f2f615",
   "metadata": {},
   "source": [
    "*PetMind is a nationwide pet product retailer in the United States. With inflation hitting 41-year\n",
    "highs, the company is planning to reduce the cost of customer retention by improving brand\n",
    "loyalty. The first strategy is to launch a monthly pet box subscription in three months.\n",
    "The marketing team is preparing a list of popular products for the pet box subscription. The\n",
    "chief marketing officer wants to know whether the list should only include the products being\n",
    "purchased more than once.*"
   ]
  },
  {
   "cell_type": "markdown",
   "id": "b661b444-e0a9-4fa2-8ca8-571c0cb33438",
   "metadata": {},
   "source": [
    "## Data Validation"
   ]
  },
  {
   "cell_type": "markdown",
   "id": "2660f46c-5716-4d38-9d58-754e57e87ca6",
   "metadata": {},
   "source": [
    "There are 3 main tasks i have done during data validation.\n",
    "- Convert Dtype as instructions.\n",
    "- Subset the dataset from 879 to 833 entries.\n",
    "- Examine the values using info()、describe()、value_counts()、hist()、nunique()...\n",
    "I Confirmed provided dataset is clean. "
   ]
  },
  {
   "cell_type": "markdown",
   "id": "2b36791b-1b12-40c8-a52e-65e8919a8c8e",
   "metadata": {},
   "source": [
    "| #                  | 0                               | 1                                  | 2                    |\n",
    "| ------------------ | ------------------------------- | ---------------------------------- | -------------------- |\n",
    "| **columns**            | **product\\_id**                     | **product\\_category**                  | **sales**                |\n",
    "| Original Dtype     | int64                           | object                             | object               |\n",
    "| Modified Dtype     | int64                           | category                           | int64                |\n",
    "| What I do /I found | No duplicated IDs can be found. | Exactly 11 categories as expected. | No suspicous values. |\n",
    "| Changes            | None                            | Modify Dtype                       | Modify Dtype         |"
   ]
  },
  {
   "cell_type": "markdown",
   "id": "805d1a13-6441-495a-8380-d2dac384a6a2",
   "metadata": {
    "tags": []
   },
   "source": [
    "#### 'sales' column: I strip/replace the signs within text, and change the dtype to integer."
   ]
  },
  {
   "cell_type": "code",
   "execution_count": null,
   "id": "2eff77a5-61ef-4f05-b5a6-5e81c3165e88",
   "metadata": {},
   "outputs": [],
   "source": []
  },
  {
   "cell_type": "markdown",
   "id": "a5928cc3-a92b-4428-8744-f53da6e9fb06",
   "metadata": {},
   "source": [
    "| #                  | 3                    | 4                               | 5                                 |\n",
    "| ------------------ | -------------------- | ------------------------------- | --------------------------------- |\n",
    "| **columns**            | **price**                | **vendor\\_id**                      | **pet\\_size**                         |\n",
    "| Original Dtype     | float64              | object                          | object                            |\n",
    "| Modified Dtype     | float64              | string                          | category                          |\n",
    "| What I do /I found | No suspicous values. | No duplicated IDs can be found. | Exactly 5 categories as expected. |\n",
    "| Changes            | None                 | Modify Dtype                    | Modify Dtype                      |"
   ]
  },
  {
   "cell_type": "code",
   "execution_count": null,
   "id": "2c138c9a-2a7b-4a6d-a040-c26d0b895e8a",
   "metadata": {},
   "outputs": [],
   "source": []
  },
  {
   "cell_type": "markdown",
   "id": "667b15c0-54ca-49ba-8bd7-5c9e7cb8e69a",
   "metadata": {},
   "source": [
    "| #                  | 6                                      | 7                | 8                        |\n",
    "| ------------------ | -------------------------------------- | ---------------- | ------------------------ |\n",
    "| **columns**            | **pet\\_type**                              | **rating**           | **re\\_buy**                  |\n",
    "| Original Dtype     | object                                 | int64            | int64                    |\n",
    "| Modified Dtype     | category                               | int64            | bool                     |\n",
    "| What I do /I found | Subset according to instructions.      | Values are 1-10. | Original values are 0/1. |\n",
    "| Changes            | 1.Modify Dtype<br>2.Subset to 833 entries | None             | Modify Dtype             |"
   ]
  },
  {
   "cell_type": "markdown",
   "id": "d46e241b-f121-47c8-8b92-0b411aa0ed57",
   "metadata": {},
   "source": [
    "#### 'pet_type' column: Remove products for 'hamster'/'rabbit'. There are 833 entries left."
   ]
  },
  {
   "cell_type": "markdown",
   "id": "5cd87312-6241-4026-b955-e977762c807e",
   "metadata": {},
   "source": [
    "#### 're_buy' column: Convert dtype to boolean, 0->False, 1->True."
   ]
  },
  {
   "cell_type": "code",
   "execution_count": null,
   "id": "4cfb7022-12f0-4ebd-9ba8-06a9ab4c6d1d",
   "metadata": {},
   "outputs": [],
   "source": []
  },
  {
   "cell_type": "markdown",
   "id": "a20a4cb9-e315-4434-83d6-cdce1494b068",
   "metadata": {},
   "source": [
    "## Data Discovery and Visualization"
   ]
  },
  {
   "cell_type": "markdown",
   "id": "c5a590aa-f343-4ebd-a555-20b9ba6c714c",
   "metadata": {
    "tags": []
   },
   "source": [
    "### 1. How many products are being purchased more than once?"
   ]
  },
  {
   "cell_type": "markdown",
   "id": "046851e1-70df-4933-a8ed-d80de67d6f9a",
   "metadata": {},
   "source": [
    "Using 're_buy' column as indicator, 443 entries are False, 390 entries are True.  \n",
    "Therefore, **390 products are being purchased more than once.**"
   ]
  },
  {
   "cell_type": "markdown",
   "id": "b35fca9c-c428-4fc5-beb0-c4ff80831724",
   "metadata": {},
   "source": [
    "![How many products are being purchased](rebuy_count.png)"
   ]
  },
  {
   "cell_type": "markdown",
   "id": "d3b1db61-5c19-4087-8459-ce38a3114bb3",
   "metadata": {},
   "source": [
    "### 2. Do the products being purchased again have better sales than others?"
   ]
  },
  {
   "cell_type": "markdown",
   "id": "2025a5db-6acb-4aac-9547-00cf802e11e9",
   "metadata": {},
   "source": [
    "**No, the products being purchased again don't have better sales than others.**  \n",
    "Two groups have similar mean, median and distribution."
   ]
  },
  {
   "cell_type": "markdown",
   "id": "35427779-8254-4802-844b-00bbf4829bd4",
   "metadata": {},
   "source": [
    "| re\\_buy | count | mean        | std         | min  | 25%   | 50%    | 75%    | max    |\n",
    "| ------- | ----- | ----------- | ----------- | ---- | ----- | ------ | ------ | ------ |\n",
    "| ONCE   | 443   | 115406.3205 | 67746.08005 | 3000 | 57000 | 116000 | 179500 | 230000 |\n",
    "| AGAIN    | 390   | 116889.7436 | 64750.26692 | 3000 | 61000 | 117500 | 176750 | 230000 |"
   ]
  },
  {
   "cell_type": "markdown",
   "id": "7e1de602-5f58-43cc-a4a4-448b0cf1ad41",
   "metadata": {},
   "source": [
    "![sales between groups](sales_between_groups.png)"
   ]
  },
  {
   "cell_type": "markdown",
   "id": "9394e77d-305b-4261-85db-bbc3c5e1f2d4",
   "metadata": {},
   "source": [
    "![Two groups have similar sales distribution](sales_count.png)"
   ]
  },
  {
   "cell_type": "markdown",
   "id": "241e560d-806d-490f-b794-99a0b9f26469",
   "metadata": {},
   "source": [
    "Purchased more than once(orange bar) & Purchased once(blue bar) have similar distribution in sales."
   ]
  },
  {
   "cell_type": "markdown",
   "id": "edca9a4c-d3c6-4ab2-b391-940b02ba8933",
   "metadata": {},
   "source": [
    "### 3. What products are more likely to be purchased again for different types of pets?"
   ]
  },
  {
   "cell_type": "markdown",
   "id": "1e9638f7-e2e5-4980-8b5b-24c07bc0044f",
   "metadata": {},
   "source": [
    "Some product categories are more likely to be purchased again for different types of pets.  \n",
    "Top sales product list are provided in the appendix."
   ]
  },
  {
   "cell_type": "markdown",
   "id": "d343b17b-a774-431e-b726-09a269aa6104",
   "metadata": {},
   "source": [
    "- bird: no particular product categories are more likely to be purchased again.\n",
    "- cat: Equipment and Food products are more likely to be purchased again.\n",
    "- dog: Bedding, Equipment and Medicine are more likely to be purchased again.\n",
    "- fish: Housing products are more likely to be purchased again."
   ]
  },
  {
   "cell_type": "markdown",
   "id": "2e9989b0-7010-45ad-81cb-e876c7ce8047",
   "metadata": {},
   "source": [
    "![Products count of purchased once/again of Different types of pets](product_category.png)"
   ]
  },
  {
   "cell_type": "markdown",
   "id": "f38144c4-315d-47f6-9dbe-598647f13afb",
   "metadata": {},
   "source": [
    "### Suggestions to the business questions"
   ]
  },
  {
   "cell_type": "markdown",
   "id": "adce81f3-c9e7-4d23-800e-28511b9d792e",
   "metadata": {},
   "source": [
    "According to the data, the pet box subscription product list **should not only include the products being\n",
    "purchased more than once.** Because the products being purchased again don't have better sales than others."
   ]
  },
  {
   "cell_type": "markdown",
   "id": "562aac5a-b612-4e80-b287-4ec4721fab02",
   "metadata": {},
   "source": [
    "Some product categories are more likely to be purchased again, marketing team can refer to the results."
   ]
  },
  {
   "cell_type": "markdown",
   "id": "50b90962-2228-4737-98bf-a4348e0dac8a",
   "metadata": {},
   "source": [
    "### Appendix - Top sales products list"
   ]
  },
  {
   "cell_type": "markdown",
   "id": "c86c0f4e-9cf7-4d34-8cd2-cdd2a460149e",
   "metadata": {},
   "source": [
    "These lists are first filtered by 'purchased more than once' and group by pet type, then selected due to highest 'sales quantity estimation'. (ie. total sales divided by price per product)\n",
    "\n",
    "These lists intented to serve as additional reference for the marketing team."
   ]
  },
  {
   "cell_type": "markdown",
   "id": "599bd634-fec8-4f68-877c-37a6275d0d60",
   "metadata": {},
   "source": [
    "#### Bird"
   ]
  },
  {
   "cell_type": "markdown",
   "id": "6b3441e8-469d-43e9-8a9d-61b4a8cd6924",
   "metadata": {},
   "source": [
    "| product\\_id | product\\_category | sales  | price | vendor\\_id | pet\\_size    | pet\\_type | rating | re\\_buy | quantity |\n",
    "| ----------- | ----------------- | ------ | ----- | ---------- | ------------ | --------- | ------ | ------- | -------- |\n",
    "| 5037        | Equipment         | 157000 | 0.35  | VC\\_1602   | medium       | bird      | 7      | TRUE    | 448571   |\n",
    "| 4242        | Food              | 142000 | 14.42 | VC\\_807    | small        | bird      | 3      | TRUE    | 9847     |\n",
    "| 5017        | Snack             | 146000 | 20.15 | VC\\_1582   | medium       | bird      | 6      | TRUE    | 7245     |\n",
    "| 4200        | Equipment         | 151000 | 65.79 | VC\\_765    | extra\\_small | bird      | 1      | TRUE    | 2295     |\n",
    "| 5035        | Snack             | 198000 | 94.29 | VC\\_1600   | medium       | bird      | 7      | TRUE    | 2099     |"
   ]
  },
  {
   "cell_type": "markdown",
   "id": "d7c169e6-6d62-47df-8279-fb65bfc73b08",
   "metadata": {},
   "source": [
    "#### Cat"
   ]
  },
  {
   "cell_type": "markdown",
   "id": "3dbccafe-f274-4acc-8c7f-c29bd2560c58",
   "metadata": {},
   "source": [
    "| product\\_id | product\\_category | sales  | price | vendor\\_id | pet\\_size    | pet\\_type | rating | re\\_buy | quantity |\n",
    "| ----------- | ----------------- | ------ | ----- | ---------- | ------------ | --------- | ------ | ------- | -------- |\n",
    "| 4755        | Food              | 157000 | 2.35  | VC\\_1320   | medium       | cat       | 7      | TRUE    | 66808    |\n",
    "| 4587        | Bedding           | 202000 | 13.29 | VC\\_1152   | small        | cat       | 10     | TRUE    | 15199    |\n",
    "| 4341        | Food              | 126000 | 10.92 | VC\\_906    | extra\\_large | cat       | 5      | TRUE    | 11538    |\n",
    "| 4583        | Food              | 228000 | 22.16 | VC\\_1148   | medium       | cat       | 10     | TRUE    | 10288    |\n",
    "| 4797        | Equipment         | 189000 | 24.1  | VC\\_1362   | medium       | cat       | 7      | TRUE    | 7842     |"
   ]
  },
  {
   "cell_type": "markdown",
   "id": "8ad0b323-e1dc-4185-9a45-c702eaf9898a",
   "metadata": {},
   "source": [
    "#### Dog"
   ]
  },
  {
   "cell_type": "markdown",
   "id": "0e5581a7-c6ce-4479-b1fa-e62b3a0704b0",
   "metadata": {},
   "source": [
    "| product\\_id | product\\_category | sales  | price | vendor\\_id | pet\\_size    | pet\\_type | rating | re\\_buy | quantity |\n",
    "| ----------- | ----------------- | ------ | ----- | ---------- | ------------ | --------- | ------ | ------- | -------- |\n",
    "| 4520        | Clothes           | 141000 | 3.33  | VC\\_1085   | extra\\_small | dog       | 4      | TRUE    | 42342    |\n",
    "| 4500        | Housing           | 177000 | 4.76  | VC\\_1065   | extra\\_small | dog       | 8      | TRUE    | 37184    |\n",
    "| 4390        | Housing           | 120000 | 4.41  | VC\\_955    | extra\\_small | dog       | 5      | TRUE    | 27210    |\n",
    "| 4540        | Snack             | 177000 | 8.97  | VC\\_1105   | extra\\_small | dog       | 10     | TRUE    | 19732    |\n",
    "| 4620        | Bedding           | 199000 | 13.51 | VC\\_1185   | extra\\_small | dog       | 10     | TRUE    | 14729    |"
   ]
  },
  {
   "cell_type": "markdown",
   "id": "72e84006-d444-4bb0-8a13-9bf3d6bd981e",
   "metadata": {},
   "source": [
    "#### Fish"
   ]
  },
  {
   "cell_type": "markdown",
   "id": "73ca796e-ee16-46e4-a461-2ae179b671fb",
   "metadata": {},
   "source": [
    "| product\\_id | product\\_category | sales  | price | vendor\\_id | pet\\_size    | pet\\_type | rating | re\\_buy | quantity |\n",
    "| ----------- | ----------------- | ------ | ----- | ---------- | ------------ | --------- | ------ | ------- | -------- |\n",
    "| 5030        | Toys              | 133000 | 8.84  | VC\\_1595   | small        | fish      | 6      | TRUE    | 15045    |\n",
    "| 4271        | Medicine          | 188000 | 22.01 | VC\\_836    | extra\\_large | fish      | 4      | TRUE    | 8541     |\n",
    "| 4217        | Supplements       | 177000 | 36.11 | VC\\_782    | small        | fish      | 6      | TRUE    | 4901     |\n",
    "| 5014        | Snack             | 111000 | 28.85 | VC\\_1579   | small        | fish      | 6      | TRUE    | 3847     |\n",
    "| 5032        | Snack             | 132000 | 67.91 | VC\\_1597   | small        | fish      | 6      | TRUE    | 1943     |"
   ]
  }
 ],
 "metadata": {
  "kernelspec": {
   "display_name": "Python 3 (ipykernel)",
   "language": "python",
   "name": "python3"
  },
  "language_info": {
   "codemirror_mode": {
    "name": "ipython",
    "version": 3
   },
   "file_extension": ".py",
   "mimetype": "text/x-python",
   "name": "python",
   "nbconvert_exporter": "python",
   "pygments_lexer": "ipython3",
   "version": "3.9.7"
  },
  "toc": {
   "base_numbering": 1,
   "nav_menu": {},
   "number_sections": true,
   "sideBar": true,
   "skip_h1_title": false,
   "title_cell": "Table of Contents",
   "title_sidebar": "Contents",
   "toc_cell": false,
   "toc_position": {},
   "toc_section_display": true,
   "toc_window_display": false
  }
 },
 "nbformat": 4,
 "nbformat_minor": 5
}
