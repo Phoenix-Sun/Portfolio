{
 "cells": [
  {
   "cell_type": "markdown",
   "id": "70e1e91e",
   "metadata": {},
   "source": [
    "根據COVID-19數據資料，分析台灣疫情相關數據\n",
    "\n",
    "資料來源-疾病管制署資料開放平台\n",
    "\n",
    "https://data.cdc.gov.tw/dataset/aagsdctable-day-19cov/resource/a65c7cb5-8a3c-4859-a27a-9019f65dd66e"
   ]
  },
  {
   "cell_type": "markdown",
   "id": "7aa30729",
   "metadata": {},
   "source": [
    "# 資料導入"
   ]
  },
  {
   "cell_type": "code",
   "execution_count": 1,
   "id": "aa250c49",
   "metadata": {},
   "outputs": [],
   "source": [
    "import pandas as pd\n",
    "import seaborn as sns\n",
    "import matplotlib\n",
    "import matplotlib.pyplot as plt"
   ]
  },
  {
   "cell_type": "code",
   "execution_count": 2,
   "id": "736a17c1",
   "metadata": {},
   "outputs": [],
   "source": [
    "# original_url = 'https://data.cdc.gov.tw/download?resourceid=a65c7cb5-8a3c-4859-a27a-9019f65dd66e&dataurl=https://od.cdc.gov.tw/eic/Day_Confirmation_Age_County_Gender_19CoV.csv'"
   ]
  },
  {
   "cell_type": "code",
   "execution_count": 3,
   "id": "db640133",
   "metadata": {},
   "outputs": [],
   "source": [
    "# 因應github檔案限制25MB，刪除不用欄位並進行壓縮\n",
    "\"\"\"\n",
    "f=pd.read_csv(\"Day_Confirmation_Age_County_Gender_19CoV.csv\")\n",
    "keep_col = ['個案研判日','縣市','性別','年齡層', '確定病例數']\n",
    "new_f = f[keep_col]\n",
    "new_f.to_csv('del_unused_columns.gz', compression='gzip', index=False)\n",
    "\"\"\""
   ]
  },
  {
   "cell_type": "code",
   "execution_count": 4,
   "id": "335da5f4",
   "metadata": {},
   "outputs": [],
   "source": [
    "# 資料日期 2023/2/1\n",
    "address = 'del_unused_columns.gz'"
   ]
  },
  {
   "cell_type": "code",
   "execution_count": 25,
   "id": "3d308412",
   "metadata": {},
   "outputs": [
    {
     "data": {
      "text/html": [
       "<div>\n",
       "<style scoped>\n",
       "    .dataframe tbody tr th:only-of-type {\n",
       "        vertical-align: middle;\n",
       "    }\n",
       "\n",
       "    .dataframe tbody tr th {\n",
       "        vertical-align: top;\n",
       "    }\n",
       "\n",
       "    .dataframe thead th {\n",
       "        text-align: right;\n",
       "    }\n",
       "</style>\n",
       "<table border=\"1\" class=\"dataframe\">\n",
       "  <thead>\n",
       "    <tr style=\"text-align: right;\">\n",
       "      <th></th>\n",
       "      <th>個案研判日</th>\n",
       "      <th>縣市</th>\n",
       "      <th>性別</th>\n",
       "      <th>年齡層</th>\n",
       "      <th>確定病例數</th>\n",
       "    </tr>\n",
       "  </thead>\n",
       "  <tbody>\n",
       "    <tr>\n",
       "      <th>1976384</th>\n",
       "      <td>2023/02/01</td>\n",
       "      <td>澎湖縣</td>\n",
       "      <td>女</td>\n",
       "      <td>70+</td>\n",
       "      <td>1</td>\n",
       "    </tr>\n",
       "    <tr>\n",
       "      <th>1976385</th>\n",
       "      <td>2023/02/01</td>\n",
       "      <td>澎湖縣</td>\n",
       "      <td>男</td>\n",
       "      <td>20-24</td>\n",
       "      <td>1</td>\n",
       "    </tr>\n",
       "    <tr>\n",
       "      <th>1976386</th>\n",
       "      <td>2023/02/01</td>\n",
       "      <td>澎湖縣</td>\n",
       "      <td>男</td>\n",
       "      <td>25-29</td>\n",
       "      <td>2</td>\n",
       "    </tr>\n",
       "    <tr>\n",
       "      <th>1976387</th>\n",
       "      <td>2023/02/01</td>\n",
       "      <td>澎湖縣</td>\n",
       "      <td>男</td>\n",
       "      <td>50-54</td>\n",
       "      <td>1</td>\n",
       "    </tr>\n",
       "    <tr>\n",
       "      <th>1976388</th>\n",
       "      <td>2023/02/01</td>\n",
       "      <td>澎湖縣</td>\n",
       "      <td>男</td>\n",
       "      <td>70+</td>\n",
       "      <td>1</td>\n",
       "    </tr>\n",
       "  </tbody>\n",
       "</table>\n",
       "</div>"
      ],
      "text/plain": [
       "              個案研判日   縣市 性別    年齡層  確定病例數\n",
       "1976384  2023/02/01  澎湖縣  女    70+      1\n",
       "1976385  2023/02/01  澎湖縣  男  20-24      1\n",
       "1976386  2023/02/01  澎湖縣  男  25-29      2\n",
       "1976387  2023/02/01  澎湖縣  男  50-54      1\n",
       "1976388  2023/02/01  澎湖縣  男    70+      1"
      ]
     },
     "execution_count": 25,
     "metadata": {},
     "output_type": "execute_result"
    }
   ],
   "source": [
    "df = pd.read_csv(address)\n",
    "df.tail()"
   ]
  },
  {
   "cell_type": "code",
   "execution_count": 6,
   "id": "1c62e281",
   "metadata": {},
   "outputs": [
    {
     "data": {
      "text/plain": [
       "(1976389, 5)"
      ]
     },
     "execution_count": 6,
     "metadata": {},
     "output_type": "execute_result"
    }
   ],
   "source": [
    "df.shape"
   ]
  },
  {
   "cell_type": "code",
   "execution_count": 7,
   "id": "9e54e2aa",
   "metadata": {},
   "outputs": [
    {
     "name": "stdout",
     "output_type": "stream",
     "text": [
      "<class 'pandas.core.frame.DataFrame'>\n",
      "RangeIndex: 1976389 entries, 0 to 1976388\n",
      "Data columns (total 5 columns):\n",
      " #   Column  Dtype \n",
      "---  ------  ----- \n",
      " 0   個案研判日   object\n",
      " 1   縣市      object\n",
      " 2   性別      object\n",
      " 3   年齡層     object\n",
      " 4   確定病例數   int64 \n",
      "dtypes: int64(1), object(4)\n",
      "memory usage: 75.4+ MB\n"
     ]
    }
   ],
   "source": [
    "df.info()"
   ]
  },
  {
   "cell_type": "code",
   "execution_count": 8,
   "id": "7eee51fe",
   "metadata": {},
   "outputs": [
    {
     "data": {
      "text/html": [
       "<div>\n",
       "<style scoped>\n",
       "    .dataframe tbody tr th:only-of-type {\n",
       "        vertical-align: middle;\n",
       "    }\n",
       "\n",
       "    .dataframe tbody tr th {\n",
       "        vertical-align: top;\n",
       "    }\n",
       "\n",
       "    .dataframe thead th {\n",
       "        text-align: right;\n",
       "    }\n",
       "</style>\n",
       "<table border=\"1\" class=\"dataframe\">\n",
       "  <thead>\n",
       "    <tr style=\"text-align: right;\">\n",
       "      <th></th>\n",
       "      <th>個案研判日</th>\n",
       "      <th>縣市</th>\n",
       "      <th>性別</th>\n",
       "      <th>年齡層</th>\n",
       "      <th>確定病例數</th>\n",
       "    </tr>\n",
       "  </thead>\n",
       "  <tbody>\n",
       "    <tr>\n",
       "      <th>count</th>\n",
       "      <td>1976389</td>\n",
       "      <td>1976389</td>\n",
       "      <td>1976389</td>\n",
       "      <td>1976389</td>\n",
       "      <td>1.976389e+06</td>\n",
       "    </tr>\n",
       "    <tr>\n",
       "      <th>unique</th>\n",
       "      <td>937</td>\n",
       "      <td>23</td>\n",
       "      <td>4</td>\n",
       "      <td>19</td>\n",
       "      <td>NaN</td>\n",
       "    </tr>\n",
       "    <tr>\n",
       "      <th>top</th>\n",
       "      <td>2022/06/06</td>\n",
       "      <td>台中市</td>\n",
       "      <td>女</td>\n",
       "      <td>70+</td>\n",
       "      <td>NaN</td>\n",
       "    </tr>\n",
       "    <tr>\n",
       "      <th>freq</th>\n",
       "      <td>10210</td>\n",
       "      <td>219248</td>\n",
       "      <td>1002018</td>\n",
       "      <td>138264</td>\n",
       "      <td>NaN</td>\n",
       "    </tr>\n",
       "    <tr>\n",
       "      <th>mean</th>\n",
       "      <td>NaN</td>\n",
       "      <td>NaN</td>\n",
       "      <td>NaN</td>\n",
       "      <td>NaN</td>\n",
       "      <td>4.855557e+00</td>\n",
       "    </tr>\n",
       "    <tr>\n",
       "      <th>std</th>\n",
       "      <td>NaN</td>\n",
       "      <td>NaN</td>\n",
       "      <td>NaN</td>\n",
       "      <td>NaN</td>\n",
       "      <td>7.545128e+00</td>\n",
       "    </tr>\n",
       "    <tr>\n",
       "      <th>min</th>\n",
       "      <td>NaN</td>\n",
       "      <td>NaN</td>\n",
       "      <td>NaN</td>\n",
       "      <td>NaN</td>\n",
       "      <td>1.000000e+00</td>\n",
       "    </tr>\n",
       "    <tr>\n",
       "      <th>25%</th>\n",
       "      <td>NaN</td>\n",
       "      <td>NaN</td>\n",
       "      <td>NaN</td>\n",
       "      <td>NaN</td>\n",
       "      <td>1.000000e+00</td>\n",
       "    </tr>\n",
       "    <tr>\n",
       "      <th>50%</th>\n",
       "      <td>NaN</td>\n",
       "      <td>NaN</td>\n",
       "      <td>NaN</td>\n",
       "      <td>NaN</td>\n",
       "      <td>2.000000e+00</td>\n",
       "    </tr>\n",
       "    <tr>\n",
       "      <th>75%</th>\n",
       "      <td>NaN</td>\n",
       "      <td>NaN</td>\n",
       "      <td>NaN</td>\n",
       "      <td>NaN</td>\n",
       "      <td>5.000000e+00</td>\n",
       "    </tr>\n",
       "    <tr>\n",
       "      <th>max</th>\n",
       "      <td>NaN</td>\n",
       "      <td>NaN</td>\n",
       "      <td>NaN</td>\n",
       "      <td>NaN</td>\n",
       "      <td>2.590000e+02</td>\n",
       "    </tr>\n",
       "  </tbody>\n",
       "</table>\n",
       "</div>"
      ],
      "text/plain": [
       "             個案研判日       縣市       性別      年齡層         確定病例數\n",
       "count      1976389  1976389  1976389  1976389  1.976389e+06\n",
       "unique         937       23        4       19           NaN\n",
       "top     2022/06/06      台中市        女      70+           NaN\n",
       "freq         10210   219248  1002018   138264           NaN\n",
       "mean           NaN      NaN      NaN      NaN  4.855557e+00\n",
       "std            NaN      NaN      NaN      NaN  7.545128e+00\n",
       "min            NaN      NaN      NaN      NaN  1.000000e+00\n",
       "25%            NaN      NaN      NaN      NaN  1.000000e+00\n",
       "50%            NaN      NaN      NaN      NaN  2.000000e+00\n",
       "75%            NaN      NaN      NaN      NaN  5.000000e+00\n",
       "max            NaN      NaN      NaN      NaN  2.590000e+02"
      ]
     },
     "execution_count": 8,
     "metadata": {},
     "output_type": "execute_result"
    }
   ],
   "source": [
    "df.describe(include='all')"
   ]
  },
  {
   "cell_type": "markdown",
   "id": "b7d2d62a",
   "metadata": {},
   "source": [
    "# 資料分析"
   ]
  },
  {
   "cell_type": "markdown",
   "id": "cacacb6c",
   "metadata": {},
   "source": [
    "## 最新資料日期"
   ]
  },
  {
   "cell_type": "code",
   "execution_count": 9,
   "id": "e173dcb6",
   "metadata": {},
   "outputs": [
    {
     "data": {
      "text/plain": [
       "'2023/02/01'"
      ]
     },
     "execution_count": 9,
     "metadata": {},
     "output_type": "execute_result"
    }
   ],
   "source": [
    "df['個案研判日'].max()"
   ]
  },
  {
   "cell_type": "markdown",
   "id": "6e13b1c3",
   "metadata": {},
   "source": [
    "## 累計確定病例數 (台灣)"
   ]
  },
  {
   "cell_type": "code",
   "execution_count": 10,
   "id": "e355c3b7",
   "metadata": {},
   "outputs": [
    {
     "data": {
      "text/plain": [
       "9596469"
      ]
     },
     "execution_count": 10,
     "metadata": {},
     "output_type": "execute_result"
    }
   ],
   "source": [
    "df['確定病例數'].sum()"
   ]
  },
  {
   "cell_type": "markdown",
   "id": "f1451269",
   "metadata": {},
   "source": [
    "## 病例數增加趨勢圖"
   ]
  },
  {
   "cell_type": "code",
   "execution_count": 11,
   "id": "13394b49",
   "metadata": {},
   "outputs": [],
   "source": [
    "# https://stackoverflow.com/questions/63218645/lowering-the-x-axis-value-density-for-dates-on-a-seaborn-line-plot"
   ]
  },
  {
   "cell_type": "code",
   "execution_count": 12,
   "id": "93fb4128",
   "metadata": {},
   "outputs": [
    {
     "data": {
      "text/html": [
       "<div>\n",
       "<style scoped>\n",
       "    .dataframe tbody tr th:only-of-type {\n",
       "        vertical-align: middle;\n",
       "    }\n",
       "\n",
       "    .dataframe tbody tr th {\n",
       "        vertical-align: top;\n",
       "    }\n",
       "\n",
       "    .dataframe thead th {\n",
       "        text-align: right;\n",
       "    }\n",
       "</style>\n",
       "<table border=\"1\" class=\"dataframe\">\n",
       "  <thead>\n",
       "    <tr style=\"text-align: right;\">\n",
       "      <th></th>\n",
       "      <th>個案研判日</th>\n",
       "      <th>確定病例數</th>\n",
       "    </tr>\n",
       "  </thead>\n",
       "  <tbody>\n",
       "    <tr>\n",
       "      <th>932</th>\n",
       "      <td>2023/01/28</td>\n",
       "      <td>27348</td>\n",
       "    </tr>\n",
       "    <tr>\n",
       "      <th>933</th>\n",
       "      <td>2023/01/29</td>\n",
       "      <td>22286</td>\n",
       "    </tr>\n",
       "    <tr>\n",
       "      <th>934</th>\n",
       "      <td>2023/01/30</td>\n",
       "      <td>32265</td>\n",
       "    </tr>\n",
       "    <tr>\n",
       "      <th>935</th>\n",
       "      <td>2023/01/31</td>\n",
       "      <td>31798</td>\n",
       "    </tr>\n",
       "    <tr>\n",
       "      <th>936</th>\n",
       "      <td>2023/02/01</td>\n",
       "      <td>27079</td>\n",
       "    </tr>\n",
       "  </tbody>\n",
       "</table>\n",
       "</div>"
      ],
      "text/plain": [
       "          個案研判日  確定病例數\n",
       "932  2023/01/28  27348\n",
       "933  2023/01/29  22286\n",
       "934  2023/01/30  32265\n",
       "935  2023/01/31  31798\n",
       "936  2023/02/01  27079"
      ]
     },
     "execution_count": 12,
     "metadata": {},
     "output_type": "execute_result"
    }
   ],
   "source": [
    "df_group = df.groupby('個案研判日')['確定病例數'].agg(sum).reset_index()\n",
    "df_group.tail()"
   ]
  },
  {
   "cell_type": "code",
   "execution_count": 13,
   "id": "57aaa542",
   "metadata": {},
   "outputs": [],
   "source": [
    "df_group['個案研判日'] = pd.to_datetime(df_group['個案研判日'], format = '%Y/%m/%d')"
   ]
  },
  {
   "cell_type": "code",
   "execution_count": 14,
   "id": "21d6103a",
   "metadata": {},
   "outputs": [
    {
     "data": {
      "image/png": "[encoded data removed]",
      "text/plain": [
       "<Figure size 640x480 with 1 Axes>"
      ]
     },
     "metadata": {},
     "output_type": "display_data"
    }
   ],
   "source": [
    "sns.lineplot(data=df_group, x='個案研判日', y='確定病例數')\n",
    "plt.xlabel(\"日期\")\n",
    "plt.xticks(rotation=45)\n",
    "plt.ylabel(\"每日染疫人數\")\n",
    "plt.title(\"台灣COVID-19每日染疫人數\")\n",
    "plt.rcParams['font.sans-serif']=['Microsoft Yahei']\n",
    "plt.show()"
   ]
  },
  {
   "cell_type": "markdown",
   "id": "84ef8311",
   "metadata": {},
   "source": [
    "## 依縣市，將病例數標計在地圖上"
   ]
  },
  {
   "cell_type": "code",
   "execution_count": 15,
   "id": "28652dd4",
   "metadata": {},
   "outputs": [
    {
     "name": "stderr",
     "output_type": "stream",
     "text": [
      "C:\\Users\\napol\\AppData\\Local\\Temp\\ipykernel_16076\\3841419929.py:1: UserWarning: Shapely 2.0 is installed, but because PyGEOS is also installed, GeoPandas will still use PyGEOS by default for now. To force to use and test Shapely 2.0, you have to set the environment variable USE_PYGEOS=0. You can do this before starting the Python process, or in your code before importing geopandas:\n",
      "\n",
      "import os\n",
      "os.environ['USE_PYGEOS'] = '0'\n",
      "import geopandas\n",
      "\n",
      "In a future release, GeoPandas will switch to using Shapely by default. If you are using PyGEOS directly (calling PyGEOS functions on geometries from GeoPandas), this will then stop working and you are encouraged to migrate from PyGEOS to Shapely 2.0 (https://shapely.readthedocs.io/en/latest/migration_pygeos.html).\n",
      "  import geopandas as gpd\n"
     ]
    }
   ],
   "source": [
    "import geopandas as gpd"
   ]
  },
  {
   "cell_type": "code",
   "execution_count": 16,
   "id": "0d4d8c7d",
   "metadata": {},
   "outputs": [
    {
     "data": {
      "text/html": [
       "<div>\n",
       "<style scoped>\n",
       "    .dataframe tbody tr th:only-of-type {\n",
       "        vertical-align: middle;\n",
       "    }\n",
       "\n",
       "    .dataframe tbody tr th {\n",
       "        vertical-align: top;\n",
       "    }\n",
       "\n",
       "    .dataframe thead th {\n",
       "        text-align: right;\n",
       "    }\n",
       "</style>\n",
       "<table border=\"1\" class=\"dataframe\">\n",
       "  <thead>\n",
       "    <tr style=\"text-align: right;\">\n",
       "      <th></th>\n",
       "      <th>COUNTYID</th>\n",
       "      <th>COUNTYCODE</th>\n",
       "      <th>COUNTYNAME</th>\n",
       "      <th>COUNTYENG</th>\n",
       "      <th>geometry</th>\n",
       "    </tr>\n",
       "  </thead>\n",
       "  <tbody>\n",
       "    <tr>\n",
       "      <th>0</th>\n",
       "      <td>Z</td>\n",
       "      <td>09007</td>\n",
       "      <td>連江縣</td>\n",
       "      <td>Lienchiang County</td>\n",
       "      <td>MULTIPOLYGON (((119.96445 25.94552, 119.96427 ...</td>\n",
       "    </tr>\n",
       "    <tr>\n",
       "      <th>1</th>\n",
       "      <td>G</td>\n",
       "      <td>10002</td>\n",
       "      <td>宜蘭縣</td>\n",
       "      <td>Yilan County</td>\n",
       "      <td>MULTIPOLYGON (((121.95971 24.84494, 121.96064 ...</td>\n",
       "    </tr>\n",
       "    <tr>\n",
       "      <th>2</th>\n",
       "      <td>N</td>\n",
       "      <td>10007</td>\n",
       "      <td>彰化縣</td>\n",
       "      <td>Changhua County</td>\n",
       "      <td>POLYGON ((120.45655 24.20719, 120.48589 24.197...</td>\n",
       "    </tr>\n",
       "    <tr>\n",
       "      <th>3</th>\n",
       "      <td>M</td>\n",
       "      <td>10008</td>\n",
       "      <td>南投縣</td>\n",
       "      <td>Nantou County</td>\n",
       "      <td>POLYGON ((121.27086 24.23661, 121.27108 24.236...</td>\n",
       "    </tr>\n",
       "    <tr>\n",
       "      <th>4</th>\n",
       "      <td>P</td>\n",
       "      <td>10009</td>\n",
       "      <td>雲林縣</td>\n",
       "      <td>Yunlin County</td>\n",
       "      <td>MULTIPOLYGON (((120.08108 23.52412, 120.08161 ...</td>\n",
       "    </tr>\n",
       "  </tbody>\n",
       "</table>\n",
       "</div>"
      ],
      "text/plain": [
       "  COUNTYID COUNTYCODE COUNTYNAME          COUNTYENG  \\\n",
       "0        Z      09007        連江縣  Lienchiang County   \n",
       "1        G      10002        宜蘭縣       Yilan County   \n",
       "2        N      10007        彰化縣    Changhua County   \n",
       "3        M      10008        南投縣      Nantou County   \n",
       "4        P      10009        雲林縣      Yunlin County   \n",
       "\n",
       "                                            geometry  \n",
       "0  MULTIPOLYGON (((119.96445 25.94552, 119.96427 ...  \n",
       "1  MULTIPOLYGON (((121.95971 24.84494, 121.96064 ...  \n",
       "2  POLYGON ((120.45655 24.20719, 120.48589 24.197...  \n",
       "3  POLYGON ((121.27086 24.23661, 121.27108 24.236...  \n",
       "4  MULTIPOLYGON (((120.08108 23.52412, 120.08161 ...  "
      ]
     },
     "execution_count": 16,
     "metadata": {},
     "output_type": "execute_result"
    }
   ],
   "source": [
    "town_shp = gpd.read_file('COUNTY_MOI_1090820.shp', encoding='utf-8')\n",
    "town_shp.head()"
   ]
  },
  {
   "cell_type": "code",
   "execution_count": 17,
   "id": "2725cd3c",
   "metadata": {},
   "outputs": [],
   "source": [
    "df_county = df.groupby('縣市')['確定病例數'].agg(sum).reset_index()\n",
    "df_county['縣市'] = df_county['縣市'].str.replace('台', '臺')"
   ]
  },
  {
   "cell_type": "code",
   "execution_count": 18,
   "id": "09d6e1e5",
   "metadata": {},
   "outputs": [
    {
     "data": {
      "text/html": [
       "<div>\n",
       "<style scoped>\n",
       "    .dataframe tbody tr th:only-of-type {\n",
       "        vertical-align: middle;\n",
       "    }\n",
       "\n",
       "    .dataframe tbody tr th {\n",
       "        vertical-align: top;\n",
       "    }\n",
       "\n",
       "    .dataframe thead th {\n",
       "        text-align: right;\n",
       "    }\n",
       "</style>\n",
       "<table border=\"1\" class=\"dataframe\">\n",
       "  <thead>\n",
       "    <tr style=\"text-align: right;\">\n",
       "      <th></th>\n",
       "      <th>COUNTYID</th>\n",
       "      <th>COUNTYCODE</th>\n",
       "      <th>COUNTYNAME</th>\n",
       "      <th>COUNTYENG</th>\n",
       "      <th>geometry</th>\n",
       "      <th>縣市</th>\n",
       "      <th>確定病例數</th>\n",
       "    </tr>\n",
       "  </thead>\n",
       "  <tbody>\n",
       "    <tr>\n",
       "      <th>0</th>\n",
       "      <td>Z</td>\n",
       "      <td>09007</td>\n",
       "      <td>連江縣</td>\n",
       "      <td>Lienchiang County</td>\n",
       "      <td>MULTIPOLYGON (((119.96445 25.94552, 119.96427 ...</td>\n",
       "      <td>連江縣</td>\n",
       "      <td>3893</td>\n",
       "    </tr>\n",
       "    <tr>\n",
       "      <th>1</th>\n",
       "      <td>G</td>\n",
       "      <td>10002</td>\n",
       "      <td>宜蘭縣</td>\n",
       "      <td>Yilan County</td>\n",
       "      <td>MULTIPOLYGON (((121.95971 24.84494, 121.96064 ...</td>\n",
       "      <td>宜蘭縣</td>\n",
       "      <td>184838</td>\n",
       "    </tr>\n",
       "    <tr>\n",
       "      <th>2</th>\n",
       "      <td>N</td>\n",
       "      <td>10007</td>\n",
       "      <td>彰化縣</td>\n",
       "      <td>Changhua County</td>\n",
       "      <td>POLYGON ((120.45655 24.20719, 120.48589 24.197...</td>\n",
       "      <td>彰化縣</td>\n",
       "      <td>452703</td>\n",
       "    </tr>\n",
       "    <tr>\n",
       "      <th>3</th>\n",
       "      <td>M</td>\n",
       "      <td>10008</td>\n",
       "      <td>南投縣</td>\n",
       "      <td>Nantou County</td>\n",
       "      <td>POLYGON ((121.27086 24.23661, 121.27108 24.236...</td>\n",
       "      <td>南投縣</td>\n",
       "      <td>155397</td>\n",
       "    </tr>\n",
       "    <tr>\n",
       "      <th>4</th>\n",
       "      <td>P</td>\n",
       "      <td>10009</td>\n",
       "      <td>雲林縣</td>\n",
       "      <td>Yunlin County</td>\n",
       "      <td>MULTIPOLYGON (((120.08108 23.52412, 120.08161 ...</td>\n",
       "      <td>雲林縣</td>\n",
       "      <td>196659</td>\n",
       "    </tr>\n",
       "  </tbody>\n",
       "</table>\n",
       "</div>"
      ],
      "text/plain": [
       "  COUNTYID COUNTYCODE COUNTYNAME          COUNTYENG  \\\n",
       "0        Z      09007        連江縣  Lienchiang County   \n",
       "1        G      10002        宜蘭縣       Yilan County   \n",
       "2        N      10007        彰化縣    Changhua County   \n",
       "3        M      10008        南投縣      Nantou County   \n",
       "4        P      10009        雲林縣      Yunlin County   \n",
       "\n",
       "                                            geometry   縣市   確定病例數  \n",
       "0  MULTIPOLYGON (((119.96445 25.94552, 119.96427 ...  連江縣    3893  \n",
       "1  MULTIPOLYGON (((121.95971 24.84494, 121.96064 ...  宜蘭縣  184838  \n",
       "2  POLYGON ((120.45655 24.20719, 120.48589 24.197...  彰化縣  452703  \n",
       "3  POLYGON ((121.27086 24.23661, 121.27108 24.236...  南投縣  155397  \n",
       "4  MULTIPOLYGON (((120.08108 23.52412, 120.08161 ...  雲林縣  196659  "
      ]
     },
     "execution_count": 18,
     "metadata": {},
     "output_type": "execute_result"
    }
   ],
   "source": [
    "county_merge = town_shp.merge(df_county, left_on=('COUNTYNAME'), right_on=('縣市'))\n",
    "county_merge.head()"
   ]
  },
  {
   "cell_type": "code",
   "execution_count": 19,
   "id": "93f0c326",
   "metadata": {},
   "outputs": [
    {
     "name": "stdout",
     "output_type": "stream",
     "text": [
      "Populating the interactive namespace from numpy and matplotlib\n"
     ]
    },
    {
     "name": "stderr",
     "output_type": "stream",
     "text": [
      "D:\\ANACONDA\\lib\\site-packages\\IPython\\core\\magics\\pylab.py:159: UserWarning: pylab import has clobbered these variables: ['f']\n",
      "`%matplotlib` prevents importing * from pylab and numpy\n",
      "  warn(\"pylab import has clobbered these variables: %s\"  % clobbered +\n"
     ]
    },
    {
     "data": {
      "text/plain": [
       "Text(0.5, 1.0, '台灣各縣市COVID-19確診病例人數 (單位-人)')"
      ]
     },
     "execution_count": 19,
     "metadata": {},
     "output_type": "execute_result"
    },
    {
     "data": {
      "image/png": "[encoded data removed]",
      "text/plain": [
       "<Figure size 1000x1000 with 2 Axes>"
      ]
     },
     "metadata": {},
     "output_type": "display_data"
    }
   ],
   "source": [
    "%pylab inline\n",
    "pylab.rcParams['figure.figsize'] = (10.0, 10.0)\n",
    "import pysal\n",
    "ax = county_merge.plot(column='確定病例數', k=10, cmap='OrRd', legend=True, legend_kwds={'format':\"%d\"})\n",
    "ax.set_xlim(119, 122.5)\n",
    "ax.set_ylim(21.5, 26)\n",
    "ax.set_axis_off()\n",
    "ax.set_title('台灣各縣市COVID-19確診病例人數 (單位-人)')"
   ]
  },
  {
   "cell_type": "code",
   "execution_count": 20,
   "id": "5927f8bb",
   "metadata": {},
   "outputs": [],
   "source": [
    "# 參考資料 https://viml.nchc.org.tw/archive_blog_687/"
   ]
  },
  {
   "cell_type": "markdown",
   "id": "2d8ec324",
   "metadata": {},
   "source": [
    "## COVID-19確診者性別統計"
   ]
  },
  {
   "cell_type": "code",
   "execution_count": 21,
   "id": "9b199187",
   "metadata": {},
   "outputs": [
    {
     "data": {
      "text/html": [
       "<div>\n",
       "<style scoped>\n",
       "    .dataframe tbody tr th:only-of-type {\n",
       "        vertical-align: middle;\n",
       "    }\n",
       "\n",
       "    .dataframe tbody tr th {\n",
       "        vertical-align: top;\n",
       "    }\n",
       "\n",
       "    .dataframe thead th {\n",
       "        text-align: right;\n",
       "    }\n",
       "</style>\n",
       "<table border=\"1\" class=\"dataframe\">\n",
       "  <thead>\n",
       "    <tr style=\"text-align: right;\">\n",
       "      <th></th>\n",
       "      <th>性別</th>\n",
       "      <th>確定病例數</th>\n",
       "    </tr>\n",
       "  </thead>\n",
       "  <tbody>\n",
       "    <tr>\n",
       "      <th>0</th>\n",
       "      <td>女</td>\n",
       "      <td>5119461</td>\n",
       "    </tr>\n",
       "    <tr>\n",
       "      <th>1</th>\n",
       "      <td>性別不詳</td>\n",
       "      <td>1698</td>\n",
       "    </tr>\n",
       "    <tr>\n",
       "      <th>2</th>\n",
       "      <td>男</td>\n",
       "      <td>4475122</td>\n",
       "    </tr>\n",
       "    <tr>\n",
       "      <th>3</th>\n",
       "      <td>第三性</td>\n",
       "      <td>188</td>\n",
       "    </tr>\n",
       "  </tbody>\n",
       "</table>\n",
       "</div>"
      ],
      "text/plain": [
       "     性別    確定病例數\n",
       "0     女  5119461\n",
       "1  性別不詳     1698\n",
       "2     男  4475122\n",
       "3   第三性      188"
      ]
     },
     "execution_count": 21,
     "metadata": {},
     "output_type": "execute_result"
    }
   ],
   "source": [
    "df_group2 = df.groupby('性別')['確定病例數'].agg(sum).reset_index()\n",
    "df_group2"
   ]
  },
  {
   "cell_type": "code",
   "execution_count": 22,
   "id": "d9f79f2a",
   "metadata": {},
   "outputs": [
    {
     "data": {
      "text/plain": [
       "Text(0.5, 1.0, 'COVID-19確診者性別統計')"
      ]
     },
     "execution_count": 22,
     "metadata": {},
     "output_type": "execute_result"
    },
    {
     "data": {
      "image/png": "[encoded data removed]",
      "text/plain": [
       "<Figure size 640x480 with 1 Axes>"
      ]
     },
     "metadata": {},
     "output_type": "display_data"
    }
   ],
   "source": [
    "plt.rcParams[\"figure.figsize\"] = plt.rcParamsDefault[\"figure.figsize\"]\n",
    "g = sns.barplot(data=df_group2.loc[[0,2],:], x='確定病例數', y='性別')\n",
    "plt.ticklabel_format(style='plain', axis='x')\n",
    "g.bar_label(g.containers[0], fmt='%d', label_type='center')\n",
    "g.set_title('COVID-19確診者性別統計')"
   ]
  },
  {
   "cell_type": "markdown",
   "id": "b14adf36",
   "metadata": {},
   "source": [
    "## 確診年齡層統計"
   ]
  },
  {
   "cell_type": "code",
   "execution_count": 23,
   "id": "12743c24",
   "metadata": {},
   "outputs": [
    {
     "data": {
      "text/html": [
       "<div>\n",
       "<style scoped>\n",
       "    .dataframe tbody tr th:only-of-type {\n",
       "        vertical-align: middle;\n",
       "    }\n",
       "\n",
       "    .dataframe tbody tr th {\n",
       "        vertical-align: top;\n",
       "    }\n",
       "\n",
       "    .dataframe thead th {\n",
       "        text-align: right;\n",
       "    }\n",
       "</style>\n",
       "<table border=\"1\" class=\"dataframe\">\n",
       "  <thead>\n",
       "    <tr style=\"text-align: right;\">\n",
       "      <th></th>\n",
       "      <th>年齡層</th>\n",
       "      <th>確定病例數</th>\n",
       "    </tr>\n",
       "  </thead>\n",
       "  <tbody>\n",
       "    <tr>\n",
       "      <th>0</th>\n",
       "      <td>0</td>\n",
       "      <td>58310</td>\n",
       "    </tr>\n",
       "    <tr>\n",
       "      <th>1</th>\n",
       "      <td>1</td>\n",
       "      <td>83817</td>\n",
       "    </tr>\n",
       "    <tr>\n",
       "      <th>2</th>\n",
       "      <td>2</td>\n",
       "      <td>86007</td>\n",
       "    </tr>\n",
       "    <tr>\n",
       "      <th>3</th>\n",
       "      <td>3</td>\n",
       "      <td>87966</td>\n",
       "    </tr>\n",
       "    <tr>\n",
       "      <th>4</th>\n",
       "      <td>4</td>\n",
       "      <td>94694</td>\n",
       "    </tr>\n",
       "    <tr>\n",
       "      <th>5</th>\n",
       "      <td>5-9</td>\n",
       "      <td>554533</td>\n",
       "    </tr>\n",
       "    <tr>\n",
       "      <th>6</th>\n",
       "      <td>10-14</td>\n",
       "      <td>505238</td>\n",
       "    </tr>\n",
       "    <tr>\n",
       "      <th>7</th>\n",
       "      <td>15-19</td>\n",
       "      <td>530802</td>\n",
       "    </tr>\n",
       "    <tr>\n",
       "      <th>8</th>\n",
       "      <td>20-24</td>\n",
       "      <td>706090</td>\n",
       "    </tr>\n",
       "    <tr>\n",
       "      <th>9</th>\n",
       "      <td>25-29</td>\n",
       "      <td>869724</td>\n",
       "    </tr>\n",
       "    <tr>\n",
       "      <th>10</th>\n",
       "      <td>30-34</td>\n",
       "      <td>844446</td>\n",
       "    </tr>\n",
       "    <tr>\n",
       "      <th>11</th>\n",
       "      <td>35-39</td>\n",
       "      <td>857535</td>\n",
       "    </tr>\n",
       "    <tr>\n",
       "      <th>12</th>\n",
       "      <td>40-44</td>\n",
       "      <td>906217</td>\n",
       "    </tr>\n",
       "    <tr>\n",
       "      <th>13</th>\n",
       "      <td>45-49</td>\n",
       "      <td>710175</td>\n",
       "    </tr>\n",
       "    <tr>\n",
       "      <th>14</th>\n",
       "      <td>50-54</td>\n",
       "      <td>587130</td>\n",
       "    </tr>\n",
       "    <tr>\n",
       "      <th>15</th>\n",
       "      <td>55-59</td>\n",
       "      <td>534967</td>\n",
       "    </tr>\n",
       "    <tr>\n",
       "      <th>16</th>\n",
       "      <td>60-64</td>\n",
       "      <td>484891</td>\n",
       "    </tr>\n",
       "    <tr>\n",
       "      <th>17</th>\n",
       "      <td>65-69</td>\n",
       "      <td>405634</td>\n",
       "    </tr>\n",
       "    <tr>\n",
       "      <th>18</th>\n",
       "      <td>70+</td>\n",
       "      <td>688293</td>\n",
       "    </tr>\n",
       "  </tbody>\n",
       "</table>\n",
       "</div>"
      ],
      "text/plain": [
       "      年齡層   確定病例數\n",
       "0       0   58310\n",
       "1       1   83817\n",
       "2       2   86007\n",
       "3       3   87966\n",
       "4       4   94694\n",
       "5     5-9  554533\n",
       "6   10-14  505238\n",
       "7   15-19  530802\n",
       "8   20-24  706090\n",
       "9   25-29  869724\n",
       "10  30-34  844446\n",
       "11  35-39  857535\n",
       "12  40-44  906217\n",
       "13  45-49  710175\n",
       "14  50-54  587130\n",
       "15  55-59  534967\n",
       "16  60-64  484891\n",
       "17  65-69  405634\n",
       "18    70+  688293"
      ]
     },
     "execution_count": 23,
     "metadata": {},
     "output_type": "execute_result"
    }
   ],
   "source": [
    "df['年齡層'] = pd.Categorical(df['年齡層'], ['0', '1', '2', '3', '4', '5-9', '10-14', '15-19', '20-24', '25-29', '30-34', '35-39', '40-44', '45-49', '50-54', '55-59', '60-64', '65-69', '70+'])\n",
    "df_group3 = df.groupby('年齡層')['確定病例數'].agg(sum).reset_index()\n",
    "df_group3"
   ]
  },
  {
   "cell_type": "code",
   "execution_count": 24,
   "id": "b9d21c56",
   "metadata": {},
   "outputs": [
    {
     "data": {
      "image/png": "[encoded data removed]",
      "text/plain": [
       "<Figure size 640x480 with 1 Axes>"
      ]
     },
     "metadata": {},
     "output_type": "display_data"
    }
   ],
   "source": [
    "g = sns.barplot(data=df_group3, x='年齡層', y='確定病例數')\n",
    "plt.xticks(rotation=45)\n",
    "plt.title('各年齡層確診人數')\n",
    "plt.xlabel(\"年齡\")\n",
    "plt.ylabel(\"確診人數\")\n",
    "plt.show()"
   ]
  }
 ],
 "metadata": {
  "kernelspec": {
   "display_name": "Python 3 (ipykernel)",
   "language": "python",
   "name": "python3"
  },
  "language_info": {
   "codemirror_mode": {
    "name": "ipython",
    "version": 3
   },
   "file_extension": ".py",
   "mimetype": "text/x-python",
   "name": "python",
   "nbconvert_exporter": "python",
   "pygments_lexer": "ipython3",
   "version": "3.9.7"
  },
  "toc": {
   "base_numbering": 1,
   "nav_menu": {},
   "number_sections": true,
   "sideBar": true,
   "skip_h1_title": false,
   "title_cell": "Table of Contents",
   "title_sidebar": "Contents",
   "toc_cell": false,
   "toc_position": {},
   "toc_section_display": true,
   "toc_window_display": false
  }
 },
 "nbformat": 4,
 "nbformat_minor": 5
}
