{
 "cells": [
  {
   "cell_type": "markdown",
   "id": "21d47247",
   "metadata": {},
   "source": [
    "分析IMDb(網路電影資料庫)排名前一千的電影資料"
   ]
  },
  {
   "cell_type": "markdown",
   "id": "a545ef13",
   "metadata": {},
   "source": [
    "資料來源\n",
    "\n",
    "https://www.kaggle.com/datasets/ramjasmaurya/top-250s-in-imdb"
   ]
  },
  {
   "cell_type": "markdown",
   "id": "f40da702",
   "metadata": {},
   "source": [
    "# 資料導入"
   ]
  },
  {
   "cell_type": "code",
   "execution_count": 1,
   "id": "c95890fc",
   "metadata": {},
   "outputs": [],
   "source": [
    "import pandas as pd"
   ]
  },
  {
   "cell_type": "code",
   "execution_count": 2,
   "id": "1e91748b",
   "metadata": {
    "scrolled": true
   },
   "outputs": [
    {
     "data": {
      "text/html": [
       "<div>\n",
       "<style scoped>\n",
       "    .dataframe tbody tr th:only-of-type {\n",
       "        vertical-align: middle;\n",
       "    }\n",
       "\n",
       "    .dataframe tbody tr th {\n",
       "        vertical-align: top;\n",
       "    }\n",
       "\n",
       "    .dataframe thead th {\n",
       "        text-align: right;\n",
       "    }\n",
       "</style>\n",
       "<table border=\"1\" class=\"dataframe\">\n",
       "  <thead>\n",
       "    <tr style=\"text-align: right;\">\n",
       "      <th></th>\n",
       "      <th>ranking of movie\\r\\n</th>\n",
       "      <th>movie name\\r\\n</th>\n",
       "      <th>Year</th>\n",
       "      <th>certificate</th>\n",
       "      <th>runtime</th>\n",
       "      <th>genre</th>\n",
       "      <th>RATING</th>\n",
       "      <th>metascore</th>\n",
       "      <th>DETAIL ABOUT MOVIE\\n</th>\n",
       "      <th>DIRECTOR\\r\\n</th>\n",
       "      <th>ACTOR 1\\n</th>\n",
       "      <th>ACTOR 2\\n</th>\n",
       "      <th>ACTOR 3</th>\n",
       "      <th>ACTOR 4</th>\n",
       "      <th>votes</th>\n",
       "      <th>GROSS COLLECTION\\r\\n</th>\n",
       "    </tr>\n",
       "  </thead>\n",
       "  <tbody>\n",
       "    <tr>\n",
       "      <th>0</th>\n",
       "      <td>1</td>\n",
       "      <td>The Shawshank Redemption</td>\n",
       "      <td>-1994</td>\n",
       "      <td>15</td>\n",
       "      <td>142 min</td>\n",
       "      <td>Drama</td>\n",
       "      <td>9.3</td>\n",
       "      <td>81.0</td>\n",
       "      <td>Two imprisoned men bond over a number of years...</td>\n",
       "      <td>Frank Darabont</td>\n",
       "      <td>Tim Robbins</td>\n",
       "      <td>Morgan Freeman</td>\n",
       "      <td>Bob Gunton</td>\n",
       "      <td>William Sadler</td>\n",
       "      <td>2,603,314</td>\n",
       "      <td>$28.34M</td>\n",
       "    </tr>\n",
       "  </tbody>\n",
       "</table>\n",
       "</div>"
      ],
      "text/plain": [
       "  ranking of movie\\r\\n            movie name\\r\\n   Year certificate  runtime  \\\n",
       "0                    1  The Shawshank Redemption  -1994          15  142 min   \n",
       "\n",
       "   genre  RATING  metascore  \\\n",
       "0  Drama     9.3       81.0   \n",
       "\n",
       "                                DETAIL ABOUT MOVIE\\n    DIRECTOR\\r\\n  \\\n",
       "0  Two imprisoned men bond over a number of years...  Frank Darabont   \n",
       "\n",
       "     ACTOR 1\\n       ACTOR 2\\n     ACTOR 3         ACTOR 4      votes  \\\n",
       "0  Tim Robbins  Morgan Freeman  Bob Gunton  William Sadler  2,603,314   \n",
       "\n",
       "  GROSS COLLECTION\\r\\n  \n",
       "0              $28.34M  "
      ]
     },
     "execution_count": 2,
     "metadata": {},
     "output_type": "execute_result"
    }
   ],
   "source": [
    "address = 'imdb (1000 movies) in june 2022.csv'\n",
    "df = pd.read_csv(address)\n",
    "df.head(1)"
   ]
  },
  {
   "cell_type": "code",
   "execution_count": 3,
   "id": "b704a368",
   "metadata": {
    "scrolled": true
   },
   "outputs": [],
   "source": [
    "df.rename(\n",
    "    columns={\"ranking of movie\\r\\n\": \"ranking of movie\", \"movie name\\r\\n\": \"movie name\", \"DETAIL ABOUT MOVIE\\n\":\"DETAIL ABOUT MOVIE\", \"DIRECTOR\\r\\n\":\"DIRECTOR\",\"ACTOR 1\\n\":\"ACTOR 1\", \"ACTOR 2\\n\":\"ACTOR 2\", \"GROSS COLLECTION\\r\\n\":\"GROSS COLLECTION\"},\n",
    "    inplace=True,\n",
    ")"
   ]
  },
  {
   "cell_type": "code",
   "execution_count": 4,
   "id": "84e91591",
   "metadata": {
    "scrolled": true
   },
   "outputs": [
    {
     "data": {
      "text/html": [
       "<div>\n",
       "<style scoped>\n",
       "    .dataframe tbody tr th:only-of-type {\n",
       "        vertical-align: middle;\n",
       "    }\n",
       "\n",
       "    .dataframe tbody tr th {\n",
       "        vertical-align: top;\n",
       "    }\n",
       "\n",
       "    .dataframe thead th {\n",
       "        text-align: right;\n",
       "    }\n",
       "</style>\n",
       "<table border=\"1\" class=\"dataframe\">\n",
       "  <thead>\n",
       "    <tr style=\"text-align: right;\">\n",
       "      <th></th>\n",
       "      <th>movie name</th>\n",
       "      <th>Year</th>\n",
       "      <th>certificate</th>\n",
       "      <th>runtime</th>\n",
       "      <th>genre</th>\n",
       "      <th>RATING</th>\n",
       "      <th>metascore</th>\n",
       "      <th>DETAIL ABOUT MOVIE</th>\n",
       "      <th>DIRECTOR</th>\n",
       "      <th>ACTOR 1</th>\n",
       "      <th>ACTOR 2</th>\n",
       "      <th>ACTOR 3</th>\n",
       "      <th>ACTOR 4</th>\n",
       "      <th>votes</th>\n",
       "      <th>GROSS COLLECTION</th>\n",
       "    </tr>\n",
       "    <tr>\n",
       "      <th>ranking of movie</th>\n",
       "      <th></th>\n",
       "      <th></th>\n",
       "      <th></th>\n",
       "      <th></th>\n",
       "      <th></th>\n",
       "      <th></th>\n",
       "      <th></th>\n",
       "      <th></th>\n",
       "      <th></th>\n",
       "      <th></th>\n",
       "      <th></th>\n",
       "      <th></th>\n",
       "      <th></th>\n",
       "      <th></th>\n",
       "      <th></th>\n",
       "    </tr>\n",
       "  </thead>\n",
       "  <tbody>\n",
       "    <tr>\n",
       "      <th>1</th>\n",
       "      <td>The Shawshank Redemption</td>\n",
       "      <td>-1994</td>\n",
       "      <td>15</td>\n",
       "      <td>142 min</td>\n",
       "      <td>Drama</td>\n",
       "      <td>9.3</td>\n",
       "      <td>81.0</td>\n",
       "      <td>Two imprisoned men bond over a number of years...</td>\n",
       "      <td>Frank Darabont</td>\n",
       "      <td>Tim Robbins</td>\n",
       "      <td>Morgan Freeman</td>\n",
       "      <td>Bob Gunton</td>\n",
       "      <td>William Sadler</td>\n",
       "      <td>2,603,314</td>\n",
       "      <td>$28.34M</td>\n",
       "    </tr>\n",
       "  </tbody>\n",
       "</table>\n",
       "</div>"
      ],
      "text/plain": [
       "                                movie name   Year certificate  runtime  genre  \\\n",
       "ranking of movie                                                                \n",
       "1                 The Shawshank Redemption  -1994          15  142 min  Drama   \n",
       "\n",
       "                  RATING  metascore  \\\n",
       "ranking of movie                      \n",
       "1                    9.3       81.0   \n",
       "\n",
       "                                                 DETAIL ABOUT MOVIE  \\\n",
       "ranking of movie                                                      \n",
       "1                 Two imprisoned men bond over a number of years...   \n",
       "\n",
       "                        DIRECTOR      ACTOR 1         ACTOR 2     ACTOR 3  \\\n",
       "ranking of movie                                                            \n",
       "1                 Frank Darabont  Tim Robbins  Morgan Freeman  Bob Gunton   \n",
       "\n",
       "                         ACTOR 4      votes GROSS COLLECTION  \n",
       "ranking of movie                                              \n",
       "1                 William Sadler  2,603,314          $28.34M  "
      ]
     },
     "execution_count": 4,
     "metadata": {},
     "output_type": "execute_result"
    }
   ],
   "source": [
    "df.set_index('ranking of movie', inplace=True)\n",
    "df.head(1)"
   ]
  },
  {
   "cell_type": "code",
   "execution_count": 5,
   "id": "3c29b26d",
   "metadata": {},
   "outputs": [],
   "source": [
    "df['Year'] = df['Year'].str.strip('-')"
   ]
  },
  {
   "cell_type": "code",
   "execution_count": 6,
   "id": "7bc8a197",
   "metadata": {},
   "outputs": [
    {
     "name": "stdout",
     "output_type": "stream",
     "text": [
      "<class 'pandas.core.frame.DataFrame'>\n",
      "Index: 1000 entries, 1 to 1,000.00\n",
      "Data columns (total 15 columns):\n",
      " #   Column              Non-Null Count  Dtype  \n",
      "---  ------              --------------  -----  \n",
      " 0   movie name          1000 non-null   object \n",
      " 1   Year                1000 non-null   object \n",
      " 2   certificate         995 non-null    object \n",
      " 3   runtime             1000 non-null   object \n",
      " 4   genre               1000 non-null   object \n",
      " 5   RATING              1000 non-null   float64\n",
      " 6   metascore           837 non-null    float64\n",
      " 7   DETAIL ABOUT MOVIE  1000 non-null   object \n",
      " 8   DIRECTOR            1000 non-null   object \n",
      " 9   ACTOR 1             1000 non-null   object \n",
      " 10  ACTOR 2             1000 non-null   object \n",
      " 11  ACTOR 3             1000 non-null   object \n",
      " 12  ACTOR 4             1000 non-null   object \n",
      " 13  votes               1000 non-null   object \n",
      " 14  GROSS COLLECTION    820 non-null    object \n",
      "dtypes: float64(2), object(13)\n",
      "memory usage: 125.0+ KB\n"
     ]
    }
   ],
   "source": [
    "df.info()"
   ]
  },
  {
   "cell_type": "code",
   "execution_count": 7,
   "id": "95b0f02a",
   "metadata": {},
   "outputs": [],
   "source": [
    "del df['certificate']\n",
    "del df['metascore']\n",
    "# 這兩個欄位有缺失值，且後續分析不會用到，故刪除"
   ]
  },
  {
   "cell_type": "code",
   "execution_count": 8,
   "id": "7d5f8365",
   "metadata": {},
   "outputs": [],
   "source": [
    "df['GROSS COLLECTION'].fillna(0, inplace=True)"
   ]
  },
  {
   "cell_type": "markdown",
   "id": "fb42916b",
   "metadata": {},
   "source": [
    "# 數據分析\n",
    "以下全部分析內容，皆以imdb排名前一千的電影名單為分析對象"
   ]
  },
  {
   "cell_type": "markdown",
   "id": "c815e52a",
   "metadata": {},
   "source": [
    "## 獲得最多觀眾投票數的前十名電影"
   ]
  },
  {
   "cell_type": "code",
   "execution_count": 9,
   "id": "9a8aec10",
   "metadata": {},
   "outputs": [
    {
     "data": {
      "text/html": [
       "<div>\n",
       "<style scoped>\n",
       "    .dataframe tbody tr th:only-of-type {\n",
       "        vertical-align: middle;\n",
       "    }\n",
       "\n",
       "    .dataframe tbody tr th {\n",
       "        vertical-align: top;\n",
       "    }\n",
       "\n",
       "    .dataframe thead th {\n",
       "        text-align: right;\n",
       "    }\n",
       "</style>\n",
       "<table border=\"1\" class=\"dataframe\">\n",
       "  <thead>\n",
       "    <tr style=\"text-align: right;\">\n",
       "      <th></th>\n",
       "      <th>movie name</th>\n",
       "      <th>Year</th>\n",
       "      <th>votes</th>\n",
       "    </tr>\n",
       "    <tr>\n",
       "      <th>ranking of movie</th>\n",
       "      <th></th>\n",
       "      <th></th>\n",
       "      <th></th>\n",
       "    </tr>\n",
       "  </thead>\n",
       "  <tbody>\n",
       "    <tr>\n",
       "      <th>1</th>\n",
       "      <td>The Shawshank Redemption</td>\n",
       "      <td>1994</td>\n",
       "      <td>2603314</td>\n",
       "    </tr>\n",
       "    <tr>\n",
       "      <th>3</th>\n",
       "      <td>The Dark Knight</td>\n",
       "      <td>2008</td>\n",
       "      <td>2574810</td>\n",
       "    </tr>\n",
       "    <tr>\n",
       "      <th>10</th>\n",
       "      <td>Inception</td>\n",
       "      <td>2010</td>\n",
       "      <td>2284252</td>\n",
       "    </tr>\n",
       "    <tr>\n",
       "      <th>12</th>\n",
       "      <td>Fight Club</td>\n",
       "      <td>1999</td>\n",
       "      <td>2050591</td>\n",
       "    </tr>\n",
       "    <tr>\n",
       "      <th>14</th>\n",
       "      <td>Forrest Gump</td>\n",
       "      <td>1994</td>\n",
       "      <td>2011517</td>\n",
       "    </tr>\n",
       "    <tr>\n",
       "      <th>9</th>\n",
       "      <td>Pulp Fiction</td>\n",
       "      <td>1994</td>\n",
       "      <td>1995346</td>\n",
       "    </tr>\n",
       "    <tr>\n",
       "      <th>17</th>\n",
       "      <td>The Matrix</td>\n",
       "      <td>1999</td>\n",
       "      <td>1868779</td>\n",
       "    </tr>\n",
       "    <tr>\n",
       "      <th>13</th>\n",
       "      <td>The Lord of the Rings: The Fellowship of the Ring</td>\n",
       "      <td>2001</td>\n",
       "      <td>1808760</td>\n",
       "    </tr>\n",
       "    <tr>\n",
       "      <th>2</th>\n",
       "      <td>The Godfather</td>\n",
       "      <td>1972</td>\n",
       "      <td>1798731</td>\n",
       "    </tr>\n",
       "    <tr>\n",
       "      <th>4</th>\n",
       "      <td>The Lord of the Rings: The Return of the King</td>\n",
       "      <td>2003</td>\n",
       "      <td>1787701</td>\n",
       "    </tr>\n",
       "  </tbody>\n",
       "</table>\n",
       "</div>"
      ],
      "text/plain": [
       "                                                         movie name  Year  \\\n",
       "ranking of movie                                                            \n",
       "1                                          The Shawshank Redemption  1994   \n",
       "3                                                   The Dark Knight  2008   \n",
       "10                                                        Inception  2010   \n",
       "12                                                       Fight Club  1999   \n",
       "14                                                     Forrest Gump  1994   \n",
       "9                                                      Pulp Fiction  1994   \n",
       "17                                                       The Matrix  1999   \n",
       "13                The Lord of the Rings: The Fellowship of the Ring  2001   \n",
       "2                                                     The Godfather  1972   \n",
       "4                     The Lord of the Rings: The Return of the King  2003   \n",
       "\n",
       "                    votes  \n",
       "ranking of movie           \n",
       "1                 2603314  \n",
       "3                 2574810  \n",
       "10                2284252  \n",
       "12                2050591  \n",
       "14                2011517  \n",
       "9                 1995346  \n",
       "17                1868779  \n",
       "13                1808760  \n",
       "2                 1798731  \n",
       "4                 1787701  "
      ]
     },
     "execution_count": 9,
     "metadata": {},
     "output_type": "execute_result"
    }
   ],
   "source": [
    "df['votes'] = df['votes'].str.replace(',','').astype(int)\n",
    "df[['movie name', 'Year', 'votes']].nlargest(10, 'votes')"
   ]
  },
  {
   "cell_type": "markdown",
   "id": "b6ecdb29",
   "metadata": {},
   "source": [
    "## 最高票房收益的前十名電影"
   ]
  },
  {
   "cell_type": "code",
   "execution_count": 10,
   "id": "8422ae5e",
   "metadata": {},
   "outputs": [
    {
     "data": {
      "text/html": [
       "<div>\n",
       "<style scoped>\n",
       "    .dataframe tbody tr th:only-of-type {\n",
       "        vertical-align: middle;\n",
       "    }\n",
       "\n",
       "    .dataframe tbody tr th {\n",
       "        vertical-align: top;\n",
       "    }\n",
       "\n",
       "    .dataframe thead th {\n",
       "        text-align: right;\n",
       "    }\n",
       "</style>\n",
       "<table border=\"1\" class=\"dataframe\">\n",
       "  <thead>\n",
       "    <tr style=\"text-align: right;\">\n",
       "      <th></th>\n",
       "      <th>movie name</th>\n",
       "      <th>Year</th>\n",
       "      <th>GROSS COLLECTION</th>\n",
       "    </tr>\n",
       "    <tr>\n",
       "      <th>ranking of movie</th>\n",
       "      <th></th>\n",
       "      <th></th>\n",
       "      <th></th>\n",
       "    </tr>\n",
       "  </thead>\n",
       "  <tbody>\n",
       "    <tr>\n",
       "      <th>610</th>\n",
       "      <td>Star Wars: Episode VII - The Force Awakens</td>\n",
       "      <td>2015</td>\n",
       "      <td>936.66</td>\n",
       "    </tr>\n",
       "    <tr>\n",
       "      <th>66</th>\n",
       "      <td>Avengers: Endgame</td>\n",
       "      <td>2019</td>\n",
       "      <td>858.37</td>\n",
       "    </tr>\n",
       "    <tr>\n",
       "      <th>100</th>\n",
       "      <td>Spider-Man: No Way Home</td>\n",
       "      <td>2021</td>\n",
       "      <td>804.75</td>\n",
       "    </tr>\n",
       "    <tr>\n",
       "      <th>644</th>\n",
       "      <td>Avatar</td>\n",
       "      <td>2009</td>\n",
       "      <td>760.51</td>\n",
       "    </tr>\n",
       "    <tr>\n",
       "      <th>67</th>\n",
       "      <td>Avengers: Infinity War</td>\n",
       "      <td>2018</td>\n",
       "      <td>678.82</td>\n",
       "    </tr>\n",
       "    <tr>\n",
       "      <th>526</th>\n",
       "      <td>Titanic</td>\n",
       "      <td>1997</td>\n",
       "      <td>659.33</td>\n",
       "    </tr>\n",
       "    <tr>\n",
       "      <th>364</th>\n",
       "      <td>Avengers Assemble</td>\n",
       "      <td>2012</td>\n",
       "      <td>623.28</td>\n",
       "    </tr>\n",
       "    <tr>\n",
       "      <th>913</th>\n",
       "      <td>The Incredibles 2</td>\n",
       "      <td>2018</td>\n",
       "      <td>608.58</td>\n",
       "    </tr>\n",
       "    <tr>\n",
       "      <th>3</th>\n",
       "      <td>The Dark Knight</td>\n",
       "      <td>2008</td>\n",
       "      <td>534.86</td>\n",
       "    </tr>\n",
       "    <tr>\n",
       "      <th>602</th>\n",
       "      <td>Rogue One</td>\n",
       "      <td>2016</td>\n",
       "      <td>532.18</td>\n",
       "    </tr>\n",
       "  </tbody>\n",
       "</table>\n",
       "</div>"
      ],
      "text/plain": [
       "                                                  movie name  Year  \\\n",
       "ranking of movie                                                     \n",
       "610               Star Wars: Episode VII - The Force Awakens  2015   \n",
       "66                                         Avengers: Endgame  2019   \n",
       "100                                  Spider-Man: No Way Home  2021   \n",
       "644                                                   Avatar  2009   \n",
       "67                                    Avengers: Infinity War  2018   \n",
       "526                                                  Titanic  1997   \n",
       "364                                        Avengers Assemble  2012   \n",
       "913                                        The Incredibles 2  2018   \n",
       "3                                            The Dark Knight  2008   \n",
       "602                                                Rogue One  2016   \n",
       "\n",
       "                  GROSS COLLECTION  \n",
       "ranking of movie                    \n",
       "610                         936.66  \n",
       "66                          858.37  \n",
       "100                         804.75  \n",
       "644                         760.51  \n",
       "67                          678.82  \n",
       "526                         659.33  \n",
       "364                         623.28  \n",
       "913                         608.58  \n",
       "3                           534.86  \n",
       "602                         532.18  "
      ]
     },
     "execution_count": 10,
     "metadata": {},
     "output_type": "execute_result"
    }
   ],
   "source": [
    "df['GROSS COLLECTION'] = df['GROSS COLLECTION'].str.strip('$M').astype('float')\n",
    "df[['movie name', 'Year', 'GROSS COLLECTION']].nlargest(10, 'GROSS COLLECTION')"
   ]
  },
  {
   "cell_type": "markdown",
   "id": "3a3bb7a4",
   "metadata": {},
   "source": [
    "## 電影年代分布"
   ]
  },
  {
   "cell_type": "code",
   "execution_count": 11,
   "id": "dec4e753",
   "metadata": {},
   "outputs": [
    {
     "name": "stdout",
     "output_type": "stream",
     "text": [
      "<class 'pandas.core.frame.DataFrame'>\n",
      "Index: 967 entries, 1 to 1,000.00\n",
      "Data columns (total 13 columns):\n",
      " #   Column              Non-Null Count  Dtype  \n",
      "---  ------              --------------  -----  \n",
      " 0   movie name          967 non-null    object \n",
      " 1   Year                967 non-null    object \n",
      " 2   runtime             967 non-null    object \n",
      " 3   genre               967 non-null    object \n",
      " 4   RATING              967 non-null    float64\n",
      " 5   DETAIL ABOUT MOVIE  967 non-null    object \n",
      " 6   DIRECTOR            967 non-null    object \n",
      " 7   ACTOR 1             967 non-null    object \n",
      " 8   ACTOR 2             967 non-null    object \n",
      " 9   ACTOR 3             967 non-null    object \n",
      " 10  ACTOR 4             967 non-null    object \n",
      " 11  votes               967 non-null    int32  \n",
      " 12  GROSS COLLECTION    791 non-null    float64\n",
      "dtypes: float64(2), int32(1), object(10)\n",
      "memory usage: 102.0+ KB\n"
     ]
    }
   ],
   "source": [
    "year_subset = df[df['Year'].str.isdigit()]\n",
    "year_subset.info()"
   ]
  },
  {
   "cell_type": "code",
   "execution_count": 12,
   "id": "c4f69410",
   "metadata": {},
   "outputs": [
    {
     "data": {
      "text/plain": [
       "<AxesSubplot:>"
      ]
     },
     "execution_count": 12,
     "metadata": {},
     "output_type": "execute_result"
    },
    {
     "data": {
      "image/png": "[encoded data removed]",
      "text/plain": [
       "<Figure size 640x480 with 1 Axes>"
      ]
     },
     "metadata": {},
     "output_type": "display_data"
    }
   ],
   "source": [
    "year_subset['Year'].astype('int').hist(bins=20)"
   ]
  },
  {
   "cell_type": "markdown",
   "id": "ebe1b114",
   "metadata": {},
   "source": [
    "## 電影平均時長"
   ]
  },
  {
   "cell_type": "code",
   "execution_count": 13,
   "id": "441981c3",
   "metadata": {},
   "outputs": [],
   "source": [
    "df['runtime'] = df['runtime'].str.strip(' min').astype(int)"
   ]
  },
  {
   "cell_type": "code",
   "execution_count": 14,
   "id": "8f90b40b",
   "metadata": {},
   "outputs": [
    {
     "data": {
      "text/plain": [
       "124.0"
      ]
     },
     "execution_count": 14,
     "metadata": {},
     "output_type": "execute_result"
    }
   ],
   "source": [
    "round(df['runtime'].mean(),0)\n",
    "\n",
    "# 平均時長為124分鐘"
   ]
  },
  {
   "cell_type": "markdown",
   "id": "850bf17a",
   "metadata": {},
   "source": [
    "## 電影平均評分"
   ]
  },
  {
   "cell_type": "code",
   "execution_count": 15,
   "id": "738fd449",
   "metadata": {},
   "outputs": [
    {
     "data": {
      "text/plain": [
       "7.96"
      ]
     },
     "execution_count": 15,
     "metadata": {},
     "output_type": "execute_result"
    }
   ],
   "source": [
    "round(df['RATING'].mean(),2)\n",
    "\n",
    "# 前一千名的電影平均得分為7.96"
   ]
  },
  {
   "cell_type": "markdown",
   "id": "91f0972b",
   "metadata": {},
   "source": [
    "## 出演最多次的演員前十名"
   ]
  },
  {
   "cell_type": "code",
   "execution_count": 16,
   "id": "f966f22d",
   "metadata": {},
   "outputs": [
    {
     "data": {
      "text/plain": [
       "Robert De Niro       16\n",
       "Tom Hanks            14\n",
       "Al Pacino            13\n",
       "Leonardo DiCaprio    11\n",
       "Matt Damon           11\n",
       "James Stewart        11\n",
       "Clint Eastwood       11\n",
       "Christian Bale       11\n",
       "Brad Pitt            11\n",
       "Humphrey Bogart      10\n",
       "dtype: int64"
      ]
     },
     "execution_count": 16,
     "metadata": {},
     "output_type": "execute_result"
    }
   ],
   "source": [
    "actor_list = df['ACTOR 1'].values.tolist() + df['ACTOR 2'].values.tolist() + df['ACTOR 3'].values.tolist()+df['ACTOR 4'].values.tolist()\n",
    "\n",
    "actor_df = pd.DataFrame(actor_list)\n",
    "\n",
    "actor_df.value_counts().head(10)"
   ]
  },
  {
   "cell_type": "markdown",
   "id": "c47a2927",
   "metadata": {},
   "source": [
    "\n",
    "## 時數最長的電影"
   ]
  },
  {
   "cell_type": "code",
   "execution_count": 17,
   "id": "c04bdcef",
   "metadata": {},
   "outputs": [
    {
     "data": {
      "text/html": [
       "<div>\n",
       "<style scoped>\n",
       "    .dataframe tbody tr th:only-of-type {\n",
       "        vertical-align: middle;\n",
       "    }\n",
       "\n",
       "    .dataframe tbody tr th {\n",
       "        vertical-align: top;\n",
       "    }\n",
       "\n",
       "    .dataframe thead th {\n",
       "        text-align: right;\n",
       "    }\n",
       "</style>\n",
       "<table border=\"1\" class=\"dataframe\">\n",
       "  <thead>\n",
       "    <tr style=\"text-align: right;\">\n",
       "      <th></th>\n",
       "      <th>movie name</th>\n",
       "      <th>runtime</th>\n",
       "    </tr>\n",
       "    <tr>\n",
       "      <th>ranking of movie</th>\n",
       "      <th></th>\n",
       "      <th></th>\n",
       "    </tr>\n",
       "  </thead>\n",
       "  <tbody>\n",
       "    <tr>\n",
       "      <th>148</th>\n",
       "      <td>Gangs of Wasseypur</td>\n",
       "      <td>321</td>\n",
       "    </tr>\n",
       "    <tr>\n",
       "      <th>356</th>\n",
       "      <td>Zack Snyder's Justice League</td>\n",
       "      <td>242</td>\n",
       "    </tr>\n",
       "    <tr>\n",
       "      <th>673</th>\n",
       "      <td>Hamlet</td>\n",
       "      <td>242</td>\n",
       "    </tr>\n",
       "    <tr>\n",
       "      <th>201</th>\n",
       "      <td>Gone with the Wind</td>\n",
       "      <td>238</td>\n",
       "    </tr>\n",
       "    <tr>\n",
       "      <th>115</th>\n",
       "      <td>Once Upon a Time in America</td>\n",
       "      <td>229</td>\n",
       "    </tr>\n",
       "  </tbody>\n",
       "</table>\n",
       "</div>"
      ],
      "text/plain": [
       "                                    movie name  runtime\n",
       "ranking of movie                                       \n",
       "148                         Gangs of Wasseypur      321\n",
       "356               Zack Snyder's Justice League      242\n",
       "673                                     Hamlet      242\n",
       "201                         Gone with the Wind      238\n",
       "115                Once Upon a Time in America      229"
      ]
     },
     "execution_count": 17,
     "metadata": {},
     "output_type": "execute_result"
    }
   ],
   "source": [
    "df.nlargest(5, 'runtime')[['movie name', 'runtime']]"
   ]
  },
  {
   "cell_type": "markdown",
   "id": "b5b749ef",
   "metadata": {},
   "source": [
    "\n",
    "## 時數最短的電影"
   ]
  },
  {
   "cell_type": "code",
   "execution_count": 18,
   "id": "95d049e0",
   "metadata": {},
   "outputs": [
    {
     "data": {
      "text/html": [
       "<div>\n",
       "<style scoped>\n",
       "    .dataframe tbody tr th:only-of-type {\n",
       "        vertical-align: middle;\n",
       "    }\n",
       "\n",
       "    .dataframe tbody tr th {\n",
       "        vertical-align: top;\n",
       "    }\n",
       "\n",
       "    .dataframe thead th {\n",
       "        text-align: right;\n",
       "    }\n",
       "</style>\n",
       "<table border=\"1\" class=\"dataframe\">\n",
       "  <thead>\n",
       "    <tr style=\"text-align: right;\">\n",
       "      <th></th>\n",
       "      <th>movie name</th>\n",
       "      <th>runtime</th>\n",
       "    </tr>\n",
       "    <tr>\n",
       "      <th>ranking of movie</th>\n",
       "      <th></th>\n",
       "      <th></th>\n",
       "    </tr>\n",
       "  </thead>\n",
       "  <tbody>\n",
       "    <tr>\n",
       "      <th>205</th>\n",
       "      <td>Sherlock Jr.</td>\n",
       "      <td>45</td>\n",
       "    </tr>\n",
       "    <tr>\n",
       "      <th>461</th>\n",
       "      <td>The Cabinet of Dr. Caligari</td>\n",
       "      <td>58</td>\n",
       "    </tr>\n",
       "    <tr>\n",
       "      <th>588</th>\n",
       "      <td>Freaks</td>\n",
       "      <td>64</td>\n",
       "    </tr>\n",
       "    <tr>\n",
       "      <th>203</th>\n",
       "      <td>The General</td>\n",
       "      <td>67</td>\n",
       "    </tr>\n",
       "    <tr>\n",
       "      <th>135</th>\n",
       "      <td>The Kid</td>\n",
       "      <td>68</td>\n",
       "    </tr>\n",
       "  </tbody>\n",
       "</table>\n",
       "</div>"
      ],
      "text/plain": [
       "                                   movie name  runtime\n",
       "ranking of movie                                      \n",
       "205                              Sherlock Jr.       45\n",
       "461               The Cabinet of Dr. Caligari       58\n",
       "588                                    Freaks       64\n",
       "203                               The General       67\n",
       "135                                   The Kid       68"
      ]
     },
     "execution_count": 18,
     "metadata": {},
     "output_type": "execute_result"
    }
   ],
   "source": [
    "df.nsmallest(5, 'runtime')[['movie name', 'runtime']]"
   ]
  }
 ],
 "metadata": {
  "kernelspec": {
   "display_name": "Python 3 (ipykernel)",
   "language": "python",
   "name": "python3"
  },
  "language_info": {
   "codemirror_mode": {
    "name": "ipython",
    "version": 3
   },
   "file_extension": ".py",
   "mimetype": "text/x-python",
   "name": "python",
   "nbconvert_exporter": "python",
   "pygments_lexer": "ipython3",
   "version": "3.9.7"
  },
  "toc": {
   "base_numbering": 1,
   "nav_menu": {},
   "number_sections": true,
   "sideBar": true,
   "skip_h1_title": false,
   "title_cell": "Table of Contents",
   "title_sidebar": "Contents",
   "toc_cell": false,
   "toc_position": {},
   "toc_section_display": true,
   "toc_window_display": false
  }
 },
 "nbformat": 4,
 "nbformat_minor": 5
}
