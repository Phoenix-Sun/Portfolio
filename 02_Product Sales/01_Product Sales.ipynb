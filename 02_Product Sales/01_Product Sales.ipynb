{
 "cells": [
  {
   "cell_type": "markdown",
   "id": "eaffa50f",
   "metadata": {},
   "source": [
    "# 資料來源"
   ]
  },
  {
   "cell_type": "markdown",
   "id": "a98f6af0",
   "metadata": {},
   "source": [
    "https://s3.amazonaws.com/talent-assets.datacamp.com/product_sales.csv\n",
    "\n",
    "資料來自於datacamp的資料分析師認證考試。\n",
    "\n",
    "分析目標是協助公司進行新產品行銷方式的決策，根據3種行銷方式在6週中所獲得的資料，來比較不同行銷方式的收益表現。\n"
   ]
  },
  {
   "cell_type": "markdown",
   "id": "a6e47ad4",
   "metadata": {},
   "source": [
    "# 背景說明"
   ]
  },
  {
   "cell_type": "markdown",
   "id": "3cf83b42",
   "metadata": {},
   "source": [
    "## 公司背景"
   ]
  },
  {
   "cell_type": "markdown",
   "id": "5513a16d",
   "metadata": {},
   "source": [
    "About Pens and Printers\n",
    "\n",
    "Pens and Printers was founded in 1984 and provides high quality office products to large\n",
    "organizations. We are a trusted provider of everything from pens and notebooks to desk\n",
    "chairs and monitors. We don’t produce our own products but sell those made by other\n",
    "companies.\n",
    "We have built long lasting relationships with our customers and they trust us to provide them\n",
    "with the best products for them. As the way in which consumers buy products is changing,\n",
    "our sales tactics have to change too. Launching a new product line is expensive and we need\n",
    "to make sure we are using the best techniques to sell the new product effectively. The best\n",
    "approach may vary for each new product so we need to learn quickly what works and what\n",
    "doesn’t."
   ]
  },
  {
   "cell_type": "markdown",
   "id": "0615d742",
   "metadata": {},
   "source": [
    "## 產品行銷方式"
   ]
  },
  {
   "cell_type": "markdown",
   "id": "57f7a222",
   "metadata": {},
   "source": [
    "New Product Sales Methods\n",
    "\n",
    "Six weeks ago we launched a new line of office stationery. Despite the world becoming\n",
    "increasingly digital, there is still demand for notebooks, pens and sticky notes.\n",
    "Our focus has been on selling products to enable our customers to be more creative, focused\n",
    "on tools for brainstorming. We have tested three different sales strategies for this, targeted\n",
    "email and phone calls, as well as combining the two.\n",
    "\n",
    "**Email**: Customers in this group received an email when the product line was launched, and a\n",
    "further email three weeks later. This required very little work for the team.\n",
    "\n",
    "**Call**: Customers in this group were called by a member of the sales team. On average\n",
    "members of the team were on the phone for around thirty minutes per customer.\n",
    "\n",
    "**Email and call**: Customers in this group were first sent the product information email, then\n",
    "called a week later by the sales team to talk about their needs and how this new product\n",
    "may support their work. The email required little work from the team, the call was around ten\n",
    "minutes per customer."
   ]
  },
  {
   "cell_type": "markdown",
   "id": "852101a5",
   "metadata": {},
   "source": [
    "# 資料分析"
   ]
  },
  {
   "cell_type": "markdown",
   "id": "7c1e4922",
   "metadata": {},
   "source": [
    "## 資料導入"
   ]
  },
  {
   "cell_type": "code",
   "execution_count": 2,
   "id": "b8660eee",
   "metadata": {},
   "outputs": [],
   "source": [
    "import numpy as np\n",
    "import pandas as pd\n",
    "import matplotlib.pyplot as plt\n",
    "import seaborn as sns"
   ]
  },
  {
   "cell_type": "code",
   "execution_count": 3,
   "id": "fb9e9d7b",
   "metadata": {},
   "outputs": [],
   "source": [
    "url = 'https://s3.amazonaws.com/talent-assets.datacamp.com/product_sales.csv'"
   ]
  },
  {
   "cell_type": "code",
   "execution_count": 4,
   "id": "fa9bebc9",
   "metadata": {},
   "outputs": [],
   "source": [
    "df = pd.read_csv(url)"
   ]
  },
  {
   "cell_type": "code",
   "execution_count": 5,
   "id": "d85638e1",
   "metadata": {
    "scrolled": true
   },
   "outputs": [
    {
     "data": {
      "text/html": [
       "<div>\n",
       "<style scoped>\n",
       "    .dataframe tbody tr th:only-of-type {\n",
       "        vertical-align: middle;\n",
       "    }\n",
       "\n",
       "    .dataframe tbody tr th {\n",
       "        vertical-align: top;\n",
       "    }\n",
       "\n",
       "    .dataframe thead th {\n",
       "        text-align: right;\n",
       "    }\n",
       "</style>\n",
       "<table border=\"1\" class=\"dataframe\">\n",
       "  <thead>\n",
       "    <tr style=\"text-align: right;\">\n",
       "      <th></th>\n",
       "      <th>week</th>\n",
       "      <th>sales_method</th>\n",
       "      <th>customer_id</th>\n",
       "      <th>nb_sold</th>\n",
       "      <th>revenue</th>\n",
       "      <th>years_as_customer</th>\n",
       "      <th>nb_site_visits</th>\n",
       "      <th>state</th>\n",
       "    </tr>\n",
       "  </thead>\n",
       "  <tbody>\n",
       "    <tr>\n",
       "      <th>0</th>\n",
       "      <td>2</td>\n",
       "      <td>Email</td>\n",
       "      <td>2e72d641-95ac-497b-bbf8-4861764a7097</td>\n",
       "      <td>10</td>\n",
       "      <td>NaN</td>\n",
       "      <td>0</td>\n",
       "      <td>24</td>\n",
       "      <td>Arizona</td>\n",
       "    </tr>\n",
       "    <tr>\n",
       "      <th>1</th>\n",
       "      <td>6</td>\n",
       "      <td>Email + Call</td>\n",
       "      <td>3998a98d-70f5-44f7-942e-789bb8ad2fe7</td>\n",
       "      <td>15</td>\n",
       "      <td>225.47</td>\n",
       "      <td>1</td>\n",
       "      <td>28</td>\n",
       "      <td>Kansas</td>\n",
       "    </tr>\n",
       "    <tr>\n",
       "      <th>2</th>\n",
       "      <td>5</td>\n",
       "      <td>Call</td>\n",
       "      <td>d1de9884-8059-4065-b10f-86eef57e4a44</td>\n",
       "      <td>11</td>\n",
       "      <td>52.55</td>\n",
       "      <td>6</td>\n",
       "      <td>26</td>\n",
       "      <td>Wisconsin</td>\n",
       "    </tr>\n",
       "    <tr>\n",
       "      <th>3</th>\n",
       "      <td>4</td>\n",
       "      <td>Email</td>\n",
       "      <td>78aa75a4-ffeb-4817-b1d0-2f030783c5d7</td>\n",
       "      <td>11</td>\n",
       "      <td>NaN</td>\n",
       "      <td>3</td>\n",
       "      <td>25</td>\n",
       "      <td>Indiana</td>\n",
       "    </tr>\n",
       "    <tr>\n",
       "      <th>4</th>\n",
       "      <td>3</td>\n",
       "      <td>Email</td>\n",
       "      <td>10e6d446-10a5-42e5-8210-1b5438f70922</td>\n",
       "      <td>9</td>\n",
       "      <td>90.49</td>\n",
       "      <td>0</td>\n",
       "      <td>28</td>\n",
       "      <td>Illinois</td>\n",
       "    </tr>\n",
       "  </tbody>\n",
       "</table>\n",
       "</div>"
      ],
      "text/plain": [
       "   week  sales_method                           customer_id  nb_sold  revenue  \\\n",
       "0     2         Email  2e72d641-95ac-497b-bbf8-4861764a7097       10      NaN   \n",
       "1     6  Email + Call  3998a98d-70f5-44f7-942e-789bb8ad2fe7       15   225.47   \n",
       "2     5          Call  d1de9884-8059-4065-b10f-86eef57e4a44       11    52.55   \n",
       "3     4         Email  78aa75a4-ffeb-4817-b1d0-2f030783c5d7       11      NaN   \n",
       "4     3         Email  10e6d446-10a5-42e5-8210-1b5438f70922        9    90.49   \n",
       "\n",
       "   years_as_customer  nb_site_visits      state  \n",
       "0                  0              24    Arizona  \n",
       "1                  1              28     Kansas  \n",
       "2                  6              26  Wisconsin  \n",
       "3                  3              25    Indiana  \n",
       "4                  0              28   Illinois  "
      ]
     },
     "execution_count": 5,
     "metadata": {},
     "output_type": "execute_result"
    }
   ],
   "source": [
    "df.head()"
   ]
  },
  {
   "cell_type": "code",
   "execution_count": 6,
   "id": "695bafdd",
   "metadata": {},
   "outputs": [
    {
     "name": "stdout",
     "output_type": "stream",
     "text": [
      "<class 'pandas.core.frame.DataFrame'>\n",
      "RangeIndex: 15000 entries, 0 to 14999\n",
      "Data columns (total 8 columns):\n",
      " #   Column             Non-Null Count  Dtype  \n",
      "---  ------             --------------  -----  \n",
      " 0   week               15000 non-null  int64  \n",
      " 1   sales_method       15000 non-null  object \n",
      " 2   customer_id        15000 non-null  object \n",
      " 3   nb_sold            15000 non-null  int64  \n",
      " 4   revenue            13926 non-null  float64\n",
      " 5   years_as_customer  15000 non-null  int64  \n",
      " 6   nb_site_visits     15000 non-null  int64  \n",
      " 7   state              15000 non-null  object \n",
      "dtypes: float64(1), int64(4), object(3)\n",
      "memory usage: 937.6+ KB\n"
     ]
    }
   ],
   "source": [
    "df.info()"
   ]
  },
  {
   "cell_type": "markdown",
   "id": "9c5678da",
   "metadata": {},
   "source": [
    "## 資料清理"
   ]
  },
  {
   "cell_type": "code",
   "execution_count": 7,
   "id": "0f546750",
   "metadata": {},
   "outputs": [
    {
     "data": {
      "text/plain": [
       "Email           7456\n",
       "Call            4962\n",
       "Email + Call    2549\n",
       "em + call         23\n",
       "email             10\n",
       "Name: sales_method, dtype: int64"
      ]
     },
     "execution_count": 7,
     "metadata": {},
     "output_type": "execute_result"
    }
   ],
   "source": [
    "df.sales_method.value_counts()"
   ]
  },
  {
   "cell_type": "code",
   "execution_count": 8,
   "id": "35dac575",
   "metadata": {},
   "outputs": [
    {
     "data": {
      "text/plain": [
       "Email           7466\n",
       "Call            4962\n",
       "Email + Call    2572\n",
       "Name: sales_method, dtype: int64"
      ]
     },
     "execution_count": 8,
     "metadata": {},
     "output_type": "execute_result"
    }
   ],
   "source": [
    "df.sales_method = df.sales_method.replace('em + call', 'Email + Call')\n",
    "df.sales_method = df.sales_method.replace('email', 'Email')\n",
    "df.sales_method.value_counts()"
   ]
  },
  {
   "cell_type": "code",
   "execution_count": 9,
   "id": "3b31aa8d",
   "metadata": {},
   "outputs": [
    {
     "data": {
      "text/plain": [
       "week                    0\n",
       "sales_method            0\n",
       "customer_id             0\n",
       "nb_sold                 0\n",
       "revenue              1074\n",
       "years_as_customer       0\n",
       "nb_site_visits          0\n",
       "state                   0\n",
       "dtype: int64"
      ]
     },
     "execution_count": 9,
     "metadata": {},
     "output_type": "execute_result"
    }
   ],
   "source": [
    "df.isnull().sum()"
   ]
  },
  {
   "cell_type": "code",
   "execution_count": 11,
   "id": "c02f4e05",
   "metadata": {},
   "outputs": [
    {
     "data": {
      "text/plain": [
       "0"
      ]
     },
     "execution_count": 11,
     "metadata": {},
     "output_type": "execute_result"
    }
   ],
   "source": [
    "# 檢查id是否有重覆值\n",
    "duplicates = df.duplicated(subset = 'customer_id', keep = False)\n",
    "duplicates.sum()"
   ]
  },
  {
   "cell_type": "code",
   "execution_count": 13,
   "id": "d4b4b759",
   "metadata": {},
   "outputs": [
    {
     "data": {
      "text/plain": [
       "count    13926.000000\n",
       "mean        93.934943\n",
       "std         47.435312\n",
       "min         32.540000\n",
       "25%         52.470000\n",
       "50%         89.500000\n",
       "75%        107.327500\n",
       "max        238.320000\n",
       "Name: revenue, dtype: float64"
      ]
     },
     "execution_count": 13,
     "metadata": {},
     "output_type": "execute_result"
    }
   ],
   "source": [
    "df['revenue'].describe()"
   ]
  },
  {
   "cell_type": "code",
   "execution_count": 14,
   "id": "ae3ad5a5",
   "metadata": {},
   "outputs": [],
   "source": [
    "df['revenue'] = round(df['revenue'].fillna(0),2)"
   ]
  },
  {
   "cell_type": "code",
   "execution_count": 18,
   "id": "8f4a7b6d",
   "metadata": {},
   "outputs": [
    {
     "data": {
      "text/plain": [
       "count    15000.000000\n",
       "mean         4.965933\n",
       "std          5.044952\n",
       "min          0.000000\n",
       "25%          1.000000\n",
       "50%          3.000000\n",
       "75%          7.000000\n",
       "max         63.000000\n",
       "Name: years_as_customer, dtype: float64"
      ]
     },
     "execution_count": 18,
     "metadata": {},
     "output_type": "execute_result"
    }
   ],
   "source": [
    "df['years_as_customer'].describe()"
   ]
  },
  {
   "cell_type": "code",
   "execution_count": 19,
   "id": "ff0392ee",
   "metadata": {},
   "outputs": [
    {
     "data": {
      "text/plain": [
       "0     1471\n",
       "1     2504\n",
       "2     1987\n",
       "3     1619\n",
       "4     1338\n",
       "5     1118\n",
       "6      918\n",
       "7      709\n",
       "8      608\n",
       "9      509\n",
       "10     405\n",
       "11     318\n",
       "12     284\n",
       "13     239\n",
       "14     167\n",
       "15     150\n",
       "16     123\n",
       "17      88\n",
       "18      82\n",
       "19      58\n",
       "20      54\n",
       "21      37\n",
       "22      43\n",
       "23      21\n",
       "24      27\n",
       "25      19\n",
       "26      22\n",
       "27      15\n",
       "28       8\n",
       "29       5\n",
       "30       9\n",
       "31       6\n",
       "32       5\n",
       "33       8\n",
       "34       8\n",
       "35       5\n",
       "36       4\n",
       "37       2\n",
       "38       2\n",
       "39       3\n",
       "47       1\n",
       "63       1\n",
       "Name: years_as_customer, dtype: int64"
      ]
     },
     "execution_count": 19,
     "metadata": {},
     "output_type": "execute_result"
    }
   ],
   "source": [
    "df['years_as_customer'].value_counts().sort_index()"
   ]
  },
  {
   "cell_type": "code",
   "execution_count": 20,
   "id": "5823ef71",
   "metadata": {},
   "outputs": [],
   "source": [
    "df.loc[df['years_as_customer'] > 38, 'years_as_customer'] = 38"
   ]
  },
  {
   "cell_type": "code",
   "execution_count": 21,
   "id": "1ed07f6f",
   "metadata": {},
   "outputs": [
    {
     "data": {
      "text/plain": [
       "0     1471\n",
       "1     2504\n",
       "2     1987\n",
       "3     1619\n",
       "4     1338\n",
       "5     1118\n",
       "6      918\n",
       "7      709\n",
       "8      608\n",
       "9      509\n",
       "10     405\n",
       "11     318\n",
       "12     284\n",
       "13     239\n",
       "14     167\n",
       "15     150\n",
       "16     123\n",
       "17      88\n",
       "18      82\n",
       "19      58\n",
       "20      54\n",
       "21      37\n",
       "22      43\n",
       "23      21\n",
       "24      27\n",
       "25      19\n",
       "26      22\n",
       "27      15\n",
       "28       8\n",
       "29       5\n",
       "30       9\n",
       "31       6\n",
       "32       5\n",
       "33       8\n",
       "34       8\n",
       "35       5\n",
       "36       4\n",
       "37       2\n",
       "38       7\n",
       "Name: years_as_customer, dtype: int64"
      ]
     },
     "execution_count": 21,
     "metadata": {},
     "output_type": "execute_result"
    }
   ],
   "source": [
    "df['years_as_customer'].value_counts().sort_index()"
   ]
  },
  {
   "cell_type": "code",
   "execution_count": 22,
   "id": "1f74557b",
   "metadata": {},
   "outputs": [
    {
     "data": {
      "text/plain": [
       "<AxesSubplot:>"
      ]
     },
     "execution_count": 22,
     "metadata": {},
     "output_type": "execute_result"
    },
    {
     "data": {
      "image/png": "[encoded data removed]",
      "text/plain": [
       "<Figure size 640x480 with 1 Axes>"
      ]
     },
     "metadata": {},
     "output_type": "display_data"
    }
   ],
   "source": [
    "sns.boxplot(df['nb_site_visits'])"
   ]
  },
  {
   "cell_type": "code",
   "execution_count": 23,
   "id": "89f4b6f2",
   "metadata": {},
   "outputs": [
    {
     "data": {
      "text/plain": [
       "count    15000.000000\n",
       "mean        24.990867\n",
       "std          3.500914\n",
       "min         12.000000\n",
       "25%         23.000000\n",
       "50%         25.000000\n",
       "75%         27.000000\n",
       "max         41.000000\n",
       "Name: nb_site_visits, dtype: float64"
      ]
     },
     "execution_count": 23,
     "metadata": {},
     "output_type": "execute_result"
    }
   ],
   "source": [
    "df['nb_site_visits'].describe()"
   ]
  },
  {
   "cell_type": "code",
   "execution_count": 24,
   "id": "463ed450",
   "metadata": {},
   "outputs": [
    {
     "data": {
      "text/plain": [
       "California        1872\n",
       "Texas             1187\n",
       "New York           965\n",
       "Florida            904\n",
       "Illinois           617\n",
       "Pennsylvania       598\n",
       "Ohio               566\n",
       "Michigan           498\n",
       "Georgia            489\n",
       "North Carolina     459\n",
       "New Jersey         434\n",
       "Virginia           372\n",
       "Indiana            354\n",
       "Tennessee          340\n",
       "Washington         335\n",
       "Arizona            321\n",
       "Missouri           311\n",
       "Massachusetts      294\n",
       "Maryland           263\n",
       "Wisconsin          253\n",
       "Minnesota          245\n",
       "Colorado           230\n",
       "Louisiana          230\n",
       "Oregon             229\n",
       "South Carolina     224\n",
       "Alabama            214\n",
       "Kentucky           213\n",
       "Oklahoma           196\n",
       "Connecticut        179\n",
       "Iowa               165\n",
       "Kansas             142\n",
       "Mississippi        139\n",
       "Arkansas           132\n",
       "Utah               124\n",
       "Nevada             102\n",
       "Nebraska            91\n",
       "West Virginia       85\n",
       "New Mexico          84\n",
       "Hawaii              72\n",
       "Maine               63\n",
       "Idaho               62\n",
       "New Hampshire       53\n",
       "Montana             45\n",
       "Rhode Island        43\n",
       "South Dakota        41\n",
       "Alaska              40\n",
       "Delaware            34\n",
       "Wyoming             33\n",
       "North Dakota        30\n",
       "Vermont             28\n",
       "Name: state, dtype: int64"
      ]
     },
     "execution_count": 24,
     "metadata": {},
     "output_type": "execute_result"
    }
   ],
   "source": [
    "df.state.value_counts()"
   ]
  },
  {
   "cell_type": "markdown",
   "id": "4cb1e1b1",
   "metadata": {},
   "source": [
    "## 結果分析"
   ]
  },
  {
   "cell_type": "markdown",
   "id": "b9540eed",
   "metadata": {},
   "source": [
    "### How many customers were there for each approach?"
   ]
  },
  {
   "cell_type": "code",
   "execution_count": 25,
   "id": "5c5b8c58",
   "metadata": {},
   "outputs": [
    {
     "data": {
      "text/plain": [
       "sales_method\n",
       "Call            4962\n",
       "Email           7466\n",
       "Email + Call    2572\n",
       "Name: customer_id, dtype: int64"
      ]
     },
     "execution_count": 25,
     "metadata": {},
     "output_type": "execute_result"
    }
   ],
   "source": [
    "df.groupby('sales_method')['customer_id'].nunique()"
   ]
  },
  {
   "cell_type": "markdown",
   "id": "63fbceca",
   "metadata": {},
   "source": [
    "### What does the spread of the revenue look like overall? And for each method?"
   ]
  },
  {
   "cell_type": "code",
   "execution_count": 40,
   "id": "1af44f35",
   "metadata": {},
   "outputs": [
    {
     "data": {
      "text/plain": [
       "Text(0.5, 1.0, 'The spread of the revenue overall')"
      ]
     },
     "execution_count": 40,
     "metadata": {},
     "output_type": "execute_result"
    },
    {
     "data": {
      "image/png": "[encoded data removed]",
      "text/plain": [
       "<Figure size 640x480 with 1 Axes>"
      ]
     },
     "metadata": {},
     "output_type": "display_data"
    }
   ],
   "source": [
    "bins = np.arange(0, 250, 10)\n",
    "g = sns.histplot(df['revenue'], bins=bins)\n",
    "g.set_title('The spread of the revenue overall')"
   ]
  },
  {
   "cell_type": "code",
   "execution_count": 29,
   "id": "826a9fba",
   "metadata": {},
   "outputs": [
    {
     "data": {
      "text/plain": [
       "count    15000.000000\n",
       "mean        87.209201\n",
       "std         51.725970\n",
       "min          0.000000\n",
       "25%         50.600000\n",
       "50%         87.575000\n",
       "75%        106.070000\n",
       "max        238.320000\n",
       "Name: revenue, dtype: float64"
      ]
     },
     "execution_count": 29,
     "metadata": {},
     "output_type": "execute_result"
    }
   ],
   "source": [
    "df['revenue'].describe()"
   ]
  },
  {
   "cell_type": "code",
   "execution_count": 30,
   "id": "4f8f8955",
   "metadata": {},
   "outputs": [
    {
     "data": {
      "text/plain": [
       "Text(0.5, 1.0, 'The spread of revenue between sales methods')"
      ]
     },
     "execution_count": 30,
     "metadata": {},
     "output_type": "execute_result"
    },
    {
     "data": {
      "image/png": "[encoded data removed]",
      "text/plain": [
       "<Figure size 640x480 with 1 Axes>"
      ]
     },
     "metadata": {},
     "output_type": "display_data"
    }
   ],
   "source": [
    "g= sns.boxplot(y='revenue',data=df, x='sales_method', order=['Call', 'Email', 'Email + Call'])\n",
    "g.set_title('The spread of revenue between sales methods')"
   ]
  },
  {
   "cell_type": "code",
   "execution_count": 33,
   "id": "f12a7a8e",
   "metadata": {},
   "outputs": [
    {
     "data": {
      "text/html": [
       "<div>\n",
       "<style scoped>\n",
       "    .dataframe tbody tr th:only-of-type {\n",
       "        vertical-align: middle;\n",
       "    }\n",
       "\n",
       "    .dataframe tbody tr th {\n",
       "        vertical-align: top;\n",
       "    }\n",
       "\n",
       "    .dataframe thead th {\n",
       "        text-align: right;\n",
       "    }\n",
       "</style>\n",
       "<table border=\"1\" class=\"dataframe\">\n",
       "  <thead>\n",
       "    <tr style=\"text-align: right;\">\n",
       "      <th></th>\n",
       "      <th>count</th>\n",
       "      <th>mean</th>\n",
       "      <th>std</th>\n",
       "      <th>min</th>\n",
       "      <th>25%</th>\n",
       "      <th>50%</th>\n",
       "      <th>75%</th>\n",
       "      <th>max</th>\n",
       "    </tr>\n",
       "    <tr>\n",
       "      <th>sales_method</th>\n",
       "      <th></th>\n",
       "      <th></th>\n",
       "      <th></th>\n",
       "      <th></th>\n",
       "      <th></th>\n",
       "      <th></th>\n",
       "      <th></th>\n",
       "      <th></th>\n",
       "    </tr>\n",
       "  </thead>\n",
       "  <tbody>\n",
       "    <tr>\n",
       "      <th>Call</th>\n",
       "      <td>4962.0</td>\n",
       "      <td>24.423821</td>\n",
       "      <td>3.599864</td>\n",
       "      <td>12.0</td>\n",
       "      <td>22.0</td>\n",
       "      <td>24.0</td>\n",
       "      <td>27.0</td>\n",
       "      <td>41.0</td>\n",
       "    </tr>\n",
       "    <tr>\n",
       "      <th>Email</th>\n",
       "      <td>7466.0</td>\n",
       "      <td>24.754353</td>\n",
       "      <td>3.281552</td>\n",
       "      <td>13.0</td>\n",
       "      <td>23.0</td>\n",
       "      <td>25.0</td>\n",
       "      <td>27.0</td>\n",
       "      <td>37.0</td>\n",
       "    </tr>\n",
       "    <tr>\n",
       "      <th>Email + Call</th>\n",
       "      <td>2572.0</td>\n",
       "      <td>26.771384</td>\n",
       "      <td>3.357916</td>\n",
       "      <td>14.0</td>\n",
       "      <td>25.0</td>\n",
       "      <td>27.0</td>\n",
       "      <td>29.0</td>\n",
       "      <td>37.0</td>\n",
       "    </tr>\n",
       "  </tbody>\n",
       "</table>\n",
       "</div>"
      ],
      "text/plain": [
       "               count       mean       std   min   25%   50%   75%   max\n",
       "sales_method                                                           \n",
       "Call          4962.0  24.423821  3.599864  12.0  22.0  24.0  27.0  41.0\n",
       "Email         7466.0  24.754353  3.281552  13.0  23.0  25.0  27.0  37.0\n",
       "Email + Call  2572.0  26.771384  3.357916  14.0  25.0  27.0  29.0  37.0"
      ]
     },
     "execution_count": 33,
     "metadata": {},
     "output_type": "execute_result"
    }
   ],
   "source": [
    "df.groupby(['sales_method'])['nb_site_visits'].describe()"
   ]
  },
  {
   "cell_type": "markdown",
   "id": "02b4ff04",
   "metadata": {},
   "source": [
    "### Was there any difference in revenue over time for each of the methods?"
   ]
  },
  {
   "cell_type": "code",
   "execution_count": 34,
   "id": "bf385a3f",
   "metadata": {},
   "outputs": [
    {
     "data": {
      "text/plain": [
       "Text(0.5, 1.0, 'Revenue over time between sales methods')"
      ]
     },
     "execution_count": 34,
     "metadata": {},
     "output_type": "execute_result"
    },
    {
     "data": {
      "image/png": "[encoded data removed]",
      "text/plain": [
       "<Figure size 640x480 with 1 Axes>"
      ]
     },
     "metadata": {},
     "output_type": "display_data"
    }
   ],
   "source": [
    "g = sns.lineplot(data=df, x='week', y='revenue',hue='sales_method', hue_order=['Email + Call', 'Email','Call' ])\n",
    "g.set_title('Revenue over time between sales methods')"
   ]
  },
  {
   "cell_type": "markdown",
   "id": "a7a8bdc0",
   "metadata": {},
   "source": [
    "### Based on the data, which method would you recommend we continue to use?"
   ]
  },
  {
   "cell_type": "code",
   "execution_count": 36,
   "id": "57a59623",
   "metadata": {},
   "outputs": [
    {
     "data": {
      "text/html": [
       "<div>\n",
       "<style scoped>\n",
       "    .dataframe tbody tr th:only-of-type {\n",
       "        vertical-align: middle;\n",
       "    }\n",
       "\n",
       "    .dataframe tbody tr th {\n",
       "        vertical-align: top;\n",
       "    }\n",
       "\n",
       "    .dataframe thead th {\n",
       "        text-align: right;\n",
       "    }\n",
       "</style>\n",
       "<table border=\"1\" class=\"dataframe\">\n",
       "  <thead>\n",
       "    <tr style=\"text-align: right;\">\n",
       "      <th></th>\n",
       "      <th>count</th>\n",
       "      <th>mean</th>\n",
       "      <th>std</th>\n",
       "      <th>min</th>\n",
       "      <th>25%</th>\n",
       "      <th>50%</th>\n",
       "      <th>75%</th>\n",
       "      <th>max</th>\n",
       "    </tr>\n",
       "    <tr>\n",
       "      <th>sales_method</th>\n",
       "      <th></th>\n",
       "      <th></th>\n",
       "      <th></th>\n",
       "      <th></th>\n",
       "      <th></th>\n",
       "      <th></th>\n",
       "      <th></th>\n",
       "      <th></th>\n",
       "    </tr>\n",
       "  </thead>\n",
       "  <tbody>\n",
       "    <tr>\n",
       "      <th>Call</th>\n",
       "      <td>4962.0</td>\n",
       "      <td>45.861243</td>\n",
       "      <td>12.290939</td>\n",
       "      <td>0.0</td>\n",
       "      <td>41.0900</td>\n",
       "      <td>45.470</td>\n",
       "      <td>52.590</td>\n",
       "      <td>71.36</td>\n",
       "    </tr>\n",
       "    <tr>\n",
       "      <th>Email</th>\n",
       "      <td>7466.0</td>\n",
       "      <td>90.050607</td>\n",
       "      <td>27.457181</td>\n",
       "      <td>0.0</td>\n",
       "      <td>86.5000</td>\n",
       "      <td>94.275</td>\n",
       "      <td>104.460</td>\n",
       "      <td>148.97</td>\n",
       "    </tr>\n",
       "    <tr>\n",
       "      <th>Email + Call</th>\n",
       "      <td>2572.0</td>\n",
       "      <td>158.731217</td>\n",
       "      <td>68.470245</td>\n",
       "      <td>0.0</td>\n",
       "      <td>149.8225</td>\n",
       "      <td>182.135</td>\n",
       "      <td>189.535</td>\n",
       "      <td>238.32</td>\n",
       "    </tr>\n",
       "  </tbody>\n",
       "</table>\n",
       "</div>"
      ],
      "text/plain": [
       "               count        mean        std  min       25%      50%      75%  \\\n",
       "sales_method                                                                   \n",
       "Call          4962.0   45.861243  12.290939  0.0   41.0900   45.470   52.590   \n",
       "Email         7466.0   90.050607  27.457181  0.0   86.5000   94.275  104.460   \n",
       "Email + Call  2572.0  158.731217  68.470245  0.0  149.8225  182.135  189.535   \n",
       "\n",
       "                 max  \n",
       "sales_method          \n",
       "Call           71.36  \n",
       "Email         148.97  \n",
       "Email + Call  238.32  "
      ]
     },
     "execution_count": 36,
     "metadata": {},
     "output_type": "execute_result"
    }
   ],
   "source": [
    "df.groupby(['sales_method'])['revenue'].describe()"
   ]
  },
  {
   "cell_type": "code",
   "execution_count": 37,
   "id": "c0d0cd4a",
   "metadata": {},
   "outputs": [
    {
     "data": {
      "text/plain": [
       "count    2572.000000\n",
       "mean      158.731217\n",
       "std        68.470245\n",
       "min         0.000000\n",
       "25%       149.822500\n",
       "50%       182.135000\n",
       "75%       189.535000\n",
       "max       238.320000\n",
       "Name: revenue, dtype: float64"
      ]
     },
     "execution_count": 37,
     "metadata": {},
     "output_type": "execute_result"
    }
   ],
   "source": [
    "df_ec = df[df['sales_method'] == 'Email + Call']\n",
    "df_ec['revenue'].describe()\n",
    "\n",
    "# revenue medium $182"
   ]
  }
 ],
 "metadata": {
  "kernelspec": {
   "display_name": "Python 3 (ipykernel)",
   "language": "python",
   "name": "python3"
  },
  "language_info": {
   "codemirror_mode": {
    "name": "ipython",
    "version": 3
   },
   "file_extension": ".py",
   "mimetype": "text/x-python",
   "name": "python",
   "nbconvert_exporter": "python",
   "pygments_lexer": "ipython3",
   "version": "3.9.7"
  },
  "toc": {
   "base_numbering": 1,
   "nav_menu": {},
   "number_sections": true,
   "sideBar": true,
   "skip_h1_title": false,
   "title_cell": "Table of Contents",
   "title_sidebar": "Contents",
   "toc_cell": false,
   "toc_position": {},
   "toc_section_display": true,
   "toc_window_display": false
  }
 },
 "nbformat": 4,
 "nbformat_minor": 5
}
