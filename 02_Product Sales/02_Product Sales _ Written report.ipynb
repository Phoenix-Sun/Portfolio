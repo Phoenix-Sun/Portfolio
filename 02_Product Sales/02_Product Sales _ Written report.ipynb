{
 "cells": [
  {
   "cell_type": "markdown",
   "id": "c22f7f5b-2a69-4515-8b29-7b0e94829f11",
   "metadata": {},
   "source": [
    "# Data Validation"
   ]
  },
  {
   "cell_type": "markdown",
   "id": "52fa66a9-2e5f-48a0-8e95-f29126208279",
   "metadata": {},
   "source": [
    "Overview\n",
    "- There are 1074 null entries in 'revenue' column. I think it's reasonable to fill them with zero.\n",
    "- There are some inconsistent data entries in 'sales_method' column. I corrected them.\n",
    "- There are five suspicious data entries in 'years_as_customer' column. I replace the values that are too big."
   ]
  },
  {
   "cell_type": "markdown",
   "id": "c0c2e826-723b-47c6-8435-a009f49b5152",
   "metadata": {},
   "source": [
    "#### Column 0: week"
   ]
  },
  {
   "cell_type": "markdown",
   "id": "a18bda15-15eb-4aef-a19d-1d83f46263e2",
   "metadata": {},
   "source": [
    "dtype:[int64]\n",
    "\n",
    "Week number are all between 1-6. No modification made."
   ]
  },
  {
   "cell_type": "markdown",
   "id": "9a32d19b-77b7-4e2d-b44e-6da44f3aaf7d",
   "metadata": {},
   "source": [
    "#### Column 1: sales_method"
   ]
  },
  {
   "cell_type": "markdown",
   "id": "684ccaed-d8e9-4ee6-8deb-7d6bb589116b",
   "metadata": {},
   "source": [
    "dtype:[object]\n",
    "\n",
    "There are some inconsistent data entries, I replace and correct them into three sales method."
   ]
  },
  {
   "cell_type": "markdown",
   "id": "f42cac15-9adc-471b-817f-c087441df8d5",
   "metadata": {},
   "source": [
    "#### Column 2: customer_id"
   ]
  },
  {
   "cell_type": "markdown",
   "id": "8d2a1beb-5f25-4cae-a2be-e1da6adf75bd",
   "metadata": {},
   "source": [
    "dtype:[object]\n",
    "\n",
    "There are no duplicated customer id in the dataset. No modification made."
   ]
  },
  {
   "cell_type": "markdown",
   "id": "f95da103-0d74-4250-bc68-242743f54362",
   "metadata": {},
   "source": [
    "#### Column 3: nb_sold"
   ]
  },
  {
   "cell_type": "markdown",
   "id": "1a3141ea-4caf-47e9-812b-717bc2fa9e6b",
   "metadata": {},
   "source": [
    "dtype:[int64]\n",
    "\n",
    "No modification made."
   ]
  },
  {
   "cell_type": "markdown",
   "id": "9ca4fdaa-6133-40b1-af48-c62dc70ea131",
   "metadata": {},
   "source": [
    "#### Column 4: revenue"
   ]
  },
  {
   "cell_type": "markdown",
   "id": "38323700-f5c4-4ccb-b680-ad13c23d400e",
   "metadata": {},
   "source": [
    "dtype:[float64]\n",
    "\n",
    "There are 1074 null entries, I fill NA with 0. Also rounded to 2 decimal places."
   ]
  },
  {
   "cell_type": "markdown",
   "id": "07d79a01-0bfb-4136-9e03-0f02e236b36e",
   "metadata": {},
   "source": [
    "#### Column 5: years_as_customer"
   ]
  },
  {
   "cell_type": "markdown",
   "id": "64bccb3f-ac9f-442c-904a-ad38228d343c",
   "metadata": {},
   "source": [
    "dtype:[int64]\n",
    "\n",
    "I replace 5 entries which greater than 38 into 38.\n",
    "\n",
    "Because 2022(this year) - 1984(company founded year) = 38"
   ]
  },
  {
   "cell_type": "markdown",
   "id": "bafaf2a1-3cd9-4d5e-85cd-db54cc2b6b5e",
   "metadata": {},
   "source": [
    "#### Column 6: nb_site_visits"
   ]
  },
  {
   "cell_type": "markdown",
   "id": "ba932a4a-f2f9-4534-8345-e1de11984696",
   "metadata": {},
   "source": [
    "dtype:[int64]\n",
    "\n",
    "No modification made."
   ]
  },
  {
   "cell_type": "markdown",
   "id": "b996d517-e8a1-4646-9892-a2a94e58dc22",
   "metadata": {},
   "source": [
    "#### Column 7: state"
   ]
  },
  {
   "cell_type": "markdown",
   "id": "8f0b7db7-3ae3-466e-ae27-7cda98897883",
   "metadata": {},
   "source": [
    "dtype:[object]\n",
    "\n",
    "No modification made."
   ]
  },
  {
   "cell_type": "markdown",
   "id": "2ab915f1-3c36-4506-83cd-ef781bdcdc3f",
   "metadata": {},
   "source": [
    "# Exploratory Analysis"
   ]
  },
  {
   "cell_type": "markdown",
   "id": "21fc3661-9a76-460e-adc8-54eda9e03f66",
   "metadata": {},
   "source": [
    "**- How many customers were there for each approach?**"
   ]
  },
  {
   "cell_type": "markdown",
   "id": "e88e1c5d-8d7c-4238-9f15-ba2f7330baa7",
   "metadata": {},
   "source": [
    "| Approach     | customer number |\n",
    "| ------------ | --------------- |\n",
    "| Call         | 4962            |\n",
    "| Email        | 7466            |\n",
    "| Email + Call | 2572            |"
   ]
  },
  {
   "cell_type": "markdown",
   "id": "a0a72478-6be7-455d-b728-d019d5b8541a",
   "metadata": {},
   "source": [
    "**- What does the spread of the revenue look like overall? And for each method?**"
   ]
  },
  {
   "cell_type": "markdown",
   "id": "68f35dff-7df5-45a3-a8b5-0a53429085d1",
   "metadata": {},
   "source": [
    "![revenue](revenue.png)"
   ]
  },
  {
   "cell_type": "markdown",
   "id": "fba3db0a-0f70-40ef-a7da-8afdbfb42160",
   "metadata": {},
   "source": [
    "The spread of the revenue is left skewed. The median and mean are around 87."
   ]
  },
  {
   "cell_type": "markdown",
   "id": "0208069c-ecbe-4dd3-bbc4-f0e8e5da09f4",
   "metadata": {},
   "source": [
    "![revenue_between_groups](revenue_between_groups.png)"
   ]
  },
  {
   "cell_type": "markdown",
   "id": "1476ea85-ffe5-43a7-984a-7adcedbc7212",
   "metadata": {},
   "source": [
    "Email + Call method has the highest average revenue, but the spread also have wider range."
   ]
  },
  {
   "cell_type": "markdown",
   "id": "33c0c049-a4a9-4258-afb1-62bc3ae96e66",
   "metadata": {},
   "source": [
    "**- Was there any difference in revenue over time for each of the methods?**"
   ]
  },
  {
   "cell_type": "markdown",
   "id": "b28c8050-40c6-497b-883a-4d0005f0470d",
   "metadata": {},
   "source": [
    "![revenue_overtime](revenue_overtime.png)"
   ]
  },
  {
   "cell_type": "markdown",
   "id": "dd1b956b-6a32-4396-bb49-ac208bde7a50",
   "metadata": {},
   "source": [
    "- Week 6 have the highest revenue overall.\n",
    "- In 'Email' and 'Call' group, the revenue goes a bit up and down through time.\n",
    "- In 'Email + Call' group, the revenue goes up fairly quick between week 3-4 and week 5-6."
   ]
  },
  {
   "cell_type": "markdown",
   "id": "6059425d-d48c-430d-a834-bd5fedba44ac",
   "metadata": {},
   "source": [
    "**- Based on the data, which method would you recommend we continue to use? Some of these methods take more time from the team so they may not be the best for us to use if the results are similar.**"
   ]
  },
  {
   "cell_type": "markdown",
   "id": "d94adacf-f5df-4e96-a275-dfc1f3e06096",
   "metadata": {},
   "source": [
    "Based on the data, 'Email+Call' would be the best option. It apparently have higher revenue compare to the other two methods.\n",
    "\n",
    "'Email' is a not a bad option if the company want to minimize the labor input for some reason.\n",
    "\n",
    "'Call' is not a appropriate option, because it have the lowest revenue, and the company have to invest too much time in each customer.\n",
    "\n"
   ]
  },
  {
   "cell_type": "markdown",
   "id": "9881eba8-4fea-4ba8-9dd4-03bdad5cd5b9",
   "metadata": {},
   "source": [
    "# Business Metrics"
   ]
  },
  {
   "cell_type": "markdown",
   "id": "6dd51944-3800-41f1-b1ea-60e965d7a970",
   "metadata": {},
   "source": [
    "We could use the 'revenue' as our indicator.\n",
    "\n",
    "I would suggest we use the 'median of revenue' as our business metrix.\n",
    "\n",
    "(The median is a more robust indicator than mean in our data.)\n",
    "\n",
    "The expected revenue based on our data in 'Email + Call' group is 182 (dollars)."
   ]
  },
  {
   "cell_type": "markdown",
   "id": "fb701a34-549c-4e40-aba2-8796c9e58496",
   "metadata": {},
   "source": [
    "| sales\\_method | median | mean | std |\n",
    "| ------------- | ------ | ---- | --- |\n",
    "| Call          | 45     | 46   | 12  |\n",
    "| Email         | 94     | 90   | 27  |\n",
    "| Email + Call  | 182    | 159  | 68  |"
   ]
  },
  {
   "cell_type": "markdown",
   "id": "c630c58e-8055-4509-b81e-6d0912122a7b",
   "metadata": {},
   "source": [
    "# Summary"
   ]
  },
  {
   "cell_type": "markdown",
   "id": "1fdd5ed9-6220-4676-bb63-70942b1ddbbe",
   "metadata": {},
   "source": [
    "- Between three sales methods, 'Email + Call' is the best option because of the highest revenue.\n",
    "- For any sales methods, we have to wait until the sixth week for the best results.\n",
    "- 'Call' is a time-consuming and low return method that should be avoid.\n",
    "- We could use the 'median of revenue' as business metrix, the expected revenue for 'Email + Call' group is 182 dollars per customer."
   ]
  }
 ],
 "metadata": {
  "colab": {
   "name": "Welcome to DataCamp Workspaces.ipynb",
   "provenance": []
  },
  "kernelspec": {
   "display_name": "Python 3 (ipykernel)",
   "language": "python",
   "name": "python3"
  },
  "language_info": {
   "codemirror_mode": {
    "name": "ipython",
    "version": 3
   },
   "file_extension": ".py",
   "mimetype": "text/x-python",
   "name": "python",
   "nbconvert_exporter": "python",
   "pygments_lexer": "ipython3",
   "version": "3.9.7"
  },
  "toc": {
   "base_numbering": 1,
   "nav_menu": {},
   "number_sections": true,
   "sideBar": true,
   "skip_h1_title": false,
   "title_cell": "Table of Contents",
   "title_sidebar": "Contents",
   "toc_cell": false,
   "toc_position": {},
   "toc_section_display": true,
   "toc_window_display": false
  }
 },
 "nbformat": 4,
 "nbformat_minor": 5
}
